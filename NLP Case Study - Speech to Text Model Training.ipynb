{
 "cells": [
  {
   "cell_type": "markdown",
   "metadata": {
    "papermill": {
     "duration": 0.030656,
     "end_time": "2020-11-07T16:20:14.014510",
     "exception": false,
     "start_time": "2020-11-07T16:20:13.983854",
     "status": "completed"
    },
    "tags": []
   },
   "source": [
    "# Tensorflow Challenge: Speech to Text "
   ]
  },
  {
   "cell_type": "code",
   "execution_count": 1,
   "metadata": {
    "_cell_guid": "79c7e3d0-c299-4dcb-8224-4455121ee9b0",
    "_uuid": "d629ff2d2480ee46fbb7e2d37f6b5fab8052498a",
    "execution": {
     "iopub.execute_input": "2020-11-07T16:20:14.086428Z",
     "iopub.status.busy": "2020-11-07T16:20:14.085551Z",
     "iopub.status.idle": "2020-11-07T16:20:22.974142Z",
     "shell.execute_reply": "2020-11-07T16:20:22.972890Z"
    },
    "papermill": {
     "duration": 8.928118,
     "end_time": "2020-11-07T16:20:22.974278",
     "exception": false,
     "start_time": "2020-11-07T16:20:14.046160",
     "status": "completed"
    },
    "tags": []
   },
   "outputs": [],
   "source": [
    "import pandas as pd\n",
    "import os\n",
    "import numpy as np\n",
    "import librosa\n",
    "import IPython.display as ipd\n",
    "import matplotlib.pyplot as plt\n",
    "from scipy.io import wavfile\n",
    "import warnings\n",
    "import tensorflow as tf\n",
    "warnings.filterwarnings(\"ignore\")\n",
    "from tensorflow.keras.models import Sequential\n",
    "from tensorflow.keras.layers import LSTM,GRU, Embedding, Input, Dense, Conv1D, MaxPool1D, BatchNormalization, Dropout, Bidirectional,Flatten\n",
    "from tensorflow.keras.callbacks import EarlyStopping, ModelCheckpoint\n",
    "from tensorflow.keras.optimizers import Adam\n",
    "from sklearn.model_selection import train_test_split\n",
    "from sklearn.preprocessing import LabelEncoder\n",
    "from tensorflow.keras.utils import to_categorical"
   ]
  },
  {
   "cell_type": "code",
   "execution_count": 2,
   "metadata": {
    "execution": {
     "iopub.execute_input": "2020-11-07T16:20:23.047734Z",
     "iopub.status.busy": "2020-11-07T16:20:23.046732Z",
     "iopub.status.idle": "2020-11-07T16:20:23.050270Z",
     "shell.execute_reply": "2020-11-07T16:20:23.049673Z"
    },
    "papermill": {
     "duration": 0.045991,
     "end_time": "2020-11-07T16:20:23.050393",
     "exception": false,
     "start_time": "2020-11-07T16:20:23.004402",
     "status": "completed"
    },
    "tags": []
   },
   "outputs": [],
   "source": [
    "df=pd.DataFrame(columns=[\"File\",\"Label\"])\n",
    "needed_labels=[\"yes\",\"no\",\"up\",\"left\",\"right\",\"down\",\n",
    "              \"one\",\"two\",\"three\",\"four\",\"five\",\"six\",\"seven\",\"eight\",\"nine\"]\n",
    "IND_SIZE=2000"
   ]
  },
  {
   "cell_type": "code",
   "execution_count": 3,
   "metadata": {
    "execution": {
     "iopub.execute_input": "2020-11-07T16:20:23.118533Z",
     "iopub.status.busy": "2020-11-07T16:20:23.117720Z",
     "iopub.status.idle": "2020-11-07T16:20:24.441115Z",
     "shell.execute_reply": "2020-11-07T16:20:24.440034Z"
    },
    "papermill": {
     "duration": 1.360946,
     "end_time": "2020-11-07T16:20:24.441261",
     "exception": false,
     "start_time": "2020-11-07T16:20:23.080315",
     "status": "completed"
    },
    "tags": []
   },
   "outputs": [],
   "source": [
    "labels=[]\n",
    "filenames=[]\n",
    "path='/kaggle/input/speech-commands-tensorflow/SpeechDataset/'\n",
    "for label in needed_labels:\n",
    "    if not os.path.isdir(path+label):\n",
    "        continue\n",
    "    for filename in os.listdir('/kaggle/input/speech-commands-tensorflow/SpeechDataset/'+label):\n",
    "        filenames.append(filename)\n",
    "        labels.append(label)\n",
    "        if len(labels)%IND_SIZE==0:\n",
    "            break"
   ]
  },
  {
   "cell_type": "code",
   "execution_count": 4,
   "metadata": {
    "execution": {
     "iopub.execute_input": "2020-11-07T16:20:24.516513Z",
     "iopub.status.busy": "2020-11-07T16:20:24.512177Z",
     "iopub.status.idle": "2020-11-07T16:20:24.520939Z",
     "shell.execute_reply": "2020-11-07T16:20:24.520311Z"
    },
    "papermill": {
     "duration": 0.049173,
     "end_time": "2020-11-07T16:20:24.521071",
     "exception": false,
     "start_time": "2020-11-07T16:20:24.471898",
     "status": "completed"
    },
    "tags": []
   },
   "outputs": [],
   "source": [
    "df=pd.DataFrame(data={\"filenames\":filenames,\"labels\":labels})"
   ]
  },
  {
   "cell_type": "code",
   "execution_count": 5,
   "metadata": {
    "execution": {
     "iopub.execute_input": "2020-11-07T16:20:24.590253Z",
     "iopub.status.busy": "2020-11-07T16:20:24.589523Z",
     "iopub.status.idle": "2020-11-07T16:20:24.598179Z",
     "shell.execute_reply": "2020-11-07T16:20:24.597575Z"
    },
    "papermill": {
     "duration": 0.046353,
     "end_time": "2020-11-07T16:20:24.598304",
     "exception": false,
     "start_time": "2020-11-07T16:20:24.551951",
     "status": "completed"
    },
    "tags": []
   },
   "outputs": [],
   "source": [
    "df=df.sample(frac=1)"
   ]
  },
  {
   "cell_type": "code",
   "execution_count": 6,
   "metadata": {
    "execution": {
     "iopub.execute_input": "2020-11-07T16:20:24.677136Z",
     "iopub.status.busy": "2020-11-07T16:20:24.676085Z",
     "iopub.status.idle": "2020-11-07T16:20:24.685195Z",
     "shell.execute_reply": "2020-11-07T16:20:24.685783Z"
    },
    "papermill": {
     "duration": 0.056752,
     "end_time": "2020-11-07T16:20:24.685936",
     "exception": false,
     "start_time": "2020-11-07T16:20:24.629184",
     "status": "completed"
    },
    "tags": []
   },
   "outputs": [
    {
     "data": {
      "text/html": [
       "<div>\n",
       "<style scoped>\n",
       "    .dataframe tbody tr th:only-of-type {\n",
       "        vertical-align: middle;\n",
       "    }\n",
       "\n",
       "    .dataframe tbody tr th {\n",
       "        vertical-align: top;\n",
       "    }\n",
       "\n",
       "    .dataframe thead th {\n",
       "        text-align: right;\n",
       "    }\n",
       "</style>\n",
       "<table border=\"1\" class=\"dataframe\">\n",
       "  <thead>\n",
       "    <tr style=\"text-align: right;\">\n",
       "      <th></th>\n",
       "      <th>filenames</th>\n",
       "      <th>labels</th>\n",
       "    </tr>\n",
       "  </thead>\n",
       "  <tbody>\n",
       "    <tr>\n",
       "      <th>895</th>\n",
       "      <td>0a2b400e_nohash_3.wav</td>\n",
       "      <td>yes</td>\n",
       "    </tr>\n",
       "    <tr>\n",
       "      <th>9444</th>\n",
       "      <td>c22ebf46_nohash_3.wav</td>\n",
       "      <td>right</td>\n",
       "    </tr>\n",
       "    <tr>\n",
       "      <th>25158</th>\n",
       "      <td>538e1856_nohash_1.wav</td>\n",
       "      <td>seven</td>\n",
       "    </tr>\n",
       "    <tr>\n",
       "      <th>10420</th>\n",
       "      <td>1dc86f91_nohash_2.wav</td>\n",
       "      <td>down</td>\n",
       "    </tr>\n",
       "    <tr>\n",
       "      <th>26888</th>\n",
       "      <td>893705bb_nohash_13.wav</td>\n",
       "      <td>eight</td>\n",
       "    </tr>\n",
       "  </tbody>\n",
       "</table>\n",
       "</div>"
      ],
      "text/plain": [
       "                    filenames labels\n",
       "895     0a2b400e_nohash_3.wav    yes\n",
       "9444    c22ebf46_nohash_3.wav  right\n",
       "25158   538e1856_nohash_1.wav  seven\n",
       "10420   1dc86f91_nohash_2.wav   down\n",
       "26888  893705bb_nohash_13.wav  eight"
      ]
     },
     "execution_count": 6,
     "metadata": {},
     "output_type": "execute_result"
    }
   ],
   "source": [
    "df.head()"
   ]
  },
  {
   "cell_type": "code",
   "execution_count": 7,
   "metadata": {
    "execution": {
     "iopub.execute_input": "2020-11-07T16:20:24.765472Z",
     "iopub.status.busy": "2020-11-07T16:20:24.764524Z",
     "iopub.status.idle": "2020-11-07T16:20:24.768169Z",
     "shell.execute_reply": "2020-11-07T16:20:24.768877Z"
    },
    "papermill": {
     "duration": 0.051472,
     "end_time": "2020-11-07T16:20:24.769028",
     "exception": false,
     "start_time": "2020-11-07T16:20:24.717556",
     "status": "completed"
    },
    "tags": []
   },
   "outputs": [
    {
     "data": {
      "text/plain": [
       "three    2000\n",
       "four     2000\n",
       "down     2000\n",
       "seven    2000\n",
       "up       2000\n",
       "right    2000\n",
       "five     2000\n",
       "six      2000\n",
       "no       2000\n",
       "eight    2000\n",
       "left     2000\n",
       "nine     2000\n",
       "yes      2000\n",
       "one      2000\n",
       "two      2000\n",
       "Name: labels, dtype: int64"
      ]
     },
     "execution_count": 7,
     "metadata": {},
     "output_type": "execute_result"
    }
   ],
   "source": [
    "df[\"labels\"].value_counts()"
   ]
  },
  {
   "cell_type": "code",
   "execution_count": 8,
   "metadata": {
    "execution": {
     "iopub.execute_input": "2020-11-07T16:20:24.839015Z",
     "iopub.status.busy": "2020-11-07T16:20:24.837991Z",
     "iopub.status.idle": "2020-11-07T16:20:24.843069Z",
     "shell.execute_reply": "2020-11-07T16:20:24.842346Z"
    },
    "papermill": {
     "duration": 0.042364,
     "end_time": "2020-11-07T16:20:24.843196",
     "exception": false,
     "start_time": "2020-11-07T16:20:24.800832",
     "status": "completed"
    },
    "tags": []
   },
   "outputs": [],
   "source": [
    "example_file_path=df[\"labels\"][0]+\"/\"+df[\"filenames\"][0]"
   ]
  },
  {
   "cell_type": "code",
   "execution_count": 9,
   "metadata": {
    "execution": {
     "iopub.execute_input": "2020-11-07T16:20:24.913092Z",
     "iopub.status.busy": "2020-11-07T16:20:24.912125Z",
     "iopub.status.idle": "2020-11-07T16:20:24.915959Z",
     "shell.execute_reply": "2020-11-07T16:20:24.916561Z"
    },
    "papermill": {
     "duration": 0.041452,
     "end_time": "2020-11-07T16:20:24.916713",
     "exception": false,
     "start_time": "2020-11-07T16:20:24.875261",
     "status": "completed"
    },
    "tags": []
   },
   "outputs": [
    {
     "data": {
      "text/plain": [
       "'yes/acfd5b5e_nohash_0.wav'"
      ]
     },
     "execution_count": 9,
     "metadata": {},
     "output_type": "execute_result"
    }
   ],
   "source": [
    "example_file_path"
   ]
  },
  {
   "cell_type": "code",
   "execution_count": 10,
   "metadata": {
    "execution": {
     "iopub.execute_input": "2020-11-07T16:20:24.990977Z",
     "iopub.status.busy": "2020-11-07T16:20:24.990079Z",
     "iopub.status.idle": "2020-11-07T16:20:25.303399Z",
     "shell.execute_reply": "2020-11-07T16:20:25.302725Z"
    },
    "papermill": {
     "duration": 0.354123,
     "end_time": "2020-11-07T16:20:25.303538",
     "exception": false,
     "start_time": "2020-11-07T16:20:24.949415",
     "status": "completed"
    },
    "tags": []
   },
   "outputs": [
    {
     "data": {
      "text/plain": [
       "[<matplotlib.lines.Line2D at 0x7f19ecf84bd0>]"
      ]
     },
     "execution_count": 10,
     "metadata": {},
     "output_type": "execute_result"
    },
    {
     "data": {
      "image/png": "[encoded data removed]",
      "text/plain": [
       "<Figure size 1008x576 with 1 Axes>"
      ]
     },
     "metadata": {
      "needs_background": "light"
     },
     "output_type": "display_data"
    }
   ],
   "source": [
    "samples, sample_rate = librosa.load(path+example_file_path, sr = 16000)\n",
    "fig = plt.figure(figsize=(14, 8))\n",
    "ax1 = fig.add_subplot(211)\n",
    "ax1.set_title('Raw wave of ' + path + example_file_path)\n",
    "ax1.set_xlabel('Time')\n",
    "ax1.set_ylabel('Amplitude')\n",
    "ax1.plot(np.linspace(0, len(samples)/sample_rate, sample_rate), samples)"
   ]
  },
  {
   "cell_type": "code",
   "execution_count": 11,
   "metadata": {
    "execution": {
     "iopub.execute_input": "2020-11-07T16:20:25.387922Z",
     "iopub.status.busy": "2020-11-07T16:20:25.387073Z",
     "iopub.status.idle": "2020-11-07T16:20:25.403611Z",
     "shell.execute_reply": "2020-11-07T16:20:25.404395Z"
    },
    "papermill": {
     "duration": 0.062031,
     "end_time": "2020-11-07T16:20:25.404557",
     "exception": false,
     "start_time": "2020-11-07T16:20:25.342526",
     "status": "completed"
    },
    "tags": []
   },
   "outputs": [
    {
     "name": "stdout",
     "output_type": "stream",
     "text": [
      "16000\n"
     ]
    },
    {
     "data": {
      "text/html": [
       "\n",
       "                <audio  controls=\"controls\" >\n",
       "                    <source src=\"data:audio/wav;base64,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\" type=\"audio/wav\" />\n",
       "                    Your browser does not support the audio element.\n",
       "                </audio>\n",
       "              "
      ],
      "text/plain": [
       "<IPython.lib.display.Audio object>"
      ]
     },
     "execution_count": 11,
     "metadata": {},
     "output_type": "execute_result"
    }
   ],
   "source": [
    "print(sample_rate)\n",
    "ipd.Audio(samples, rate=sample_rate)"
   ]
  },
  {
   "cell_type": "code",
   "execution_count": 12,
   "metadata": {
    "execution": {
     "iopub.execute_input": "2020-11-07T16:20:25.493530Z",
     "iopub.status.busy": "2020-11-07T16:20:25.492317Z",
     "iopub.status.idle": "2020-11-07T16:20:26.322472Z",
     "shell.execute_reply": "2020-11-07T16:20:26.323143Z"
    },
    "papermill": {
     "duration": 0.877754,
     "end_time": "2020-11-07T16:20:26.323309",
     "exception": false,
     "start_time": "2020-11-07T16:20:25.445555",
     "status": "completed"
    },
    "tags": []
   },
   "outputs": [
    {
     "data": {
      "text/html": [
       "\n",
       "                <audio  controls=\"controls\" >\n",
       "                    <source src=\"data:audio/wav;base64,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\" type=\"audio/wav\" />\n",
       "                    Your browser does not support the audio element.\n",
       "                </audio>\n",
       "              "
      ],
      "text/plain": [
       "<IPython.lib.display.Audio object>"
      ]
     },
     "execution_count": 12,
     "metadata": {},
     "output_type": "execute_result"
    }
   ],
   "source": [
    "samples = librosa.resample(samples, sample_rate, 8000)\n",
    "ipd.Audio(samples, rate=8000)"
   ]
  },
  {
   "cell_type": "code",
   "execution_count": 13,
   "metadata": {
    "execution": {
     "iopub.execute_input": "2020-11-07T16:20:26.434597Z",
     "iopub.status.busy": "2020-11-07T16:20:26.433346Z",
     "iopub.status.idle": "2020-11-07T16:20:26.754068Z",
     "shell.execute_reply": "2020-11-07T16:20:26.754934Z"
    },
    "papermill": {
     "duration": 0.390092,
     "end_time": "2020-11-07T16:20:26.755125",
     "exception": false,
     "start_time": "2020-11-07T16:20:26.365033",
     "status": "completed"
    },
    "tags": []
   },
   "outputs": [
    {
     "data": {
      "image/png": "[encoded data removed]",
      "text/plain": [
       "<Figure size 2160x720 with 1 Axes>"
      ]
     },
     "metadata": {
      "needs_background": "light"
     },
     "output_type": "display_data"
    }
   ],
   "source": [
    "plt.figure(figsize=(30,10))\n",
    "index=np.arange(len((df['labels'].value_counts().index)))\n",
    "plt.bar(index,list(df['labels'].value_counts()[:]))\n",
    "plt.xlabel('Commands Available')\n",
    "plt.ylabel('Count')\n",
    "plt.title('Frequency Distribution')\n",
    "plt.xticks(index, df[\"labels\"].value_counts().index, fontsize=15, rotation=60)\n",
    "plt.show()"
   ]
  },
  {
   "cell_type": "code",
   "execution_count": 14,
   "metadata": {
    "execution": {
     "iopub.execute_input": "2020-11-07T16:20:26.849039Z",
     "iopub.status.busy": "2020-11-07T16:20:26.847698Z",
     "iopub.status.idle": "2020-11-07T16:20:26.853931Z",
     "shell.execute_reply": "2020-11-07T16:20:26.853273Z"
    },
    "papermill": {
     "duration": 0.054809,
     "end_time": "2020-11-07T16:20:26.854066",
     "exception": false,
     "start_time": "2020-11-07T16:20:26.799257",
     "status": "completed"
    },
    "tags": []
   },
   "outputs": [
    {
     "data": {
      "text/plain": [
       "array([1.9692132e-05, 4.2314532e-05, 3.9045488e-05, ..., 1.2277227e-05,\n",
       "       4.7883209e-06, 1.4199108e-05], dtype=float32)"
      ]
     },
     "execution_count": 14,
     "metadata": {},
     "output_type": "execute_result"
    }
   ],
   "source": [
    "samples"
   ]
  },
  {
   "cell_type": "code",
   "execution_count": 15,
   "metadata": {
    "execution": {
     "iopub.execute_input": "2020-11-07T16:20:26.943323Z",
     "iopub.status.busy": "2020-11-07T16:20:26.942202Z",
     "iopub.status.idle": "2020-11-07T16:20:30.329173Z",
     "shell.execute_reply": "2020-11-07T16:20:30.328486Z"
    },
    "papermill": {
     "duration": 3.431542,
     "end_time": "2020-11-07T16:20:30.329319",
     "exception": false,
     "start_time": "2020-11-07T16:20:26.897777",
     "status": "completed"
    },
    "tags": []
   },
   "outputs": [
    {
     "name": "stdout",
     "output_type": "stream",
     "text": [
      "\r\n",
      "\r\n",
      "\r\n",
      "ffmpeg is already the newest version (7:3.4.8-0ubuntu0.2).\r\n",
      "0 upgraded, 0 newly installed, 0 to remove and 95 not upgraded.\r\n"
     ]
    }
   ],
   "source": [
    "!apt install -y ffmpeg"
   ]
  },
  {
   "cell_type": "code",
   "execution_count": 16,
   "metadata": {
    "execution": {
     "iopub.execute_input": "2020-11-07T16:20:30.434343Z",
     "iopub.status.busy": "2020-11-07T16:20:30.433335Z",
     "iopub.status.idle": "2020-11-07T16:47:56.174615Z",
     "shell.execute_reply": "2020-11-07T16:47:56.173728Z"
    },
    "papermill": {
     "duration": 1645.798252,
     "end_time": "2020-11-07T16:47:56.174792",
     "exception": false,
     "start_time": "2020-11-07T16:20:30.376540",
     "status": "completed"
    },
    "tags": []
   },
   "outputs": [],
   "source": [
    "all_samples=[]\n",
    "all_labels=[]\n",
    "for i in range(df.shape[0]):\n",
    "    try:\n",
    "        samples, sample_rate=librosa.load(path+df.iloc[i][\"labels\"]+\"/\"+df.iloc[i][\"filenames\"])\n",
    "        re_sampled=librosa.resample(samples,sample_rate,8000)\n",
    "        if re_sampled.shape[0]==8000:\n",
    "            all_samples.append(re_sampled)\n",
    "            all_labels.append(df.iloc[i][\"labels\"])\n",
    "    except:\n",
    "        continue"
   ]
  },
  {
   "cell_type": "code",
   "execution_count": 17,
   "metadata": {
    "execution": {
     "iopub.execute_input": "2020-11-07T16:47:56.277082Z",
     "iopub.status.busy": "2020-11-07T16:47:56.276321Z",
     "iopub.status.idle": "2020-11-07T16:47:56.581700Z",
     "shell.execute_reply": "2020-11-07T16:47:56.581028Z"
    },
    "papermill": {
     "duration": 0.358275,
     "end_time": "2020-11-07T16:47:56.581867",
     "exception": false,
     "start_time": "2020-11-07T16:47:56.223592",
     "status": "completed"
    },
    "tags": []
   },
   "outputs": [],
   "source": [
    "all_samples=np.array(all_samples)\n",
    "all_labels=np.array(all_labels)"
   ]
  },
  {
   "cell_type": "code",
   "execution_count": 18,
   "metadata": {
    "execution": {
     "iopub.execute_input": "2020-11-07T16:47:56.696944Z",
     "iopub.status.busy": "2020-11-07T16:47:56.695299Z",
     "iopub.status.idle": "2020-11-07T16:47:56.700223Z",
     "shell.execute_reply": "2020-11-07T16:47:56.699309Z"
    },
    "papermill": {
     "duration": 0.072363,
     "end_time": "2020-11-07T16:47:56.700415",
     "exception": false,
     "start_time": "2020-11-07T16:47:56.628052",
     "status": "completed"
    },
    "tags": []
   },
   "outputs": [
    {
     "name": "stdout",
     "output_type": "stream",
     "text": [
      "six      1859\n",
      "nine     1846\n",
      "five     1839\n",
      "down     1835\n",
      "left     1834\n",
      "seven    1828\n",
      "right    1827\n",
      "three    1826\n",
      "two      1821\n",
      "four     1809\n",
      "eight    1808\n",
      "yes      1808\n",
      "no       1805\n",
      "one      1799\n",
      "up       1751\n",
      "dtype: int64\n"
     ]
    }
   ],
   "source": [
    "print(pd.value_counts(all_labels))"
   ]
  },
  {
   "cell_type": "code",
   "execution_count": 19,
   "metadata": {
    "execution": {
     "iopub.execute_input": "2020-11-07T16:47:56.816922Z",
     "iopub.status.busy": "2020-11-07T16:47:56.814667Z",
     "iopub.status.idle": "2020-11-07T16:47:56.817776Z",
     "shell.execute_reply": "2020-11-07T16:47:56.818338Z"
    },
    "papermill": {
     "duration": 0.069308,
     "end_time": "2020-11-07T16:47:56.818486",
     "exception": false,
     "start_time": "2020-11-07T16:47:56.749178",
     "status": "completed"
    },
    "tags": []
   },
   "outputs": [],
   "source": [
    "assert(len(needed_labels)==len(pd.value_counts(all_labels)))"
   ]
  },
  {
   "cell_type": "code",
   "execution_count": 20,
   "metadata": {
    "execution": {
     "iopub.execute_input": "2020-11-07T16:47:56.919522Z",
     "iopub.status.busy": "2020-11-07T16:47:56.918364Z",
     "iopub.status.idle": "2020-11-07T16:47:57.588406Z",
     "shell.execute_reply": "2020-11-07T16:47:57.588984Z"
    },
    "papermill": {
     "duration": 0.723803,
     "end_time": "2020-11-07T16:47:57.589182",
     "exception": false,
     "start_time": "2020-11-07T16:47:56.865379",
     "status": "completed"
    },
    "tags": []
   },
   "outputs": [],
   "source": [
    "np.save(\"samples_np.npy\",all_samples)\n",
    "np.save(\"all_labels_np.npy\",all_labels)"
   ]
  },
  {
   "cell_type": "code",
   "execution_count": 21,
   "metadata": {
    "execution": {
     "iopub.execute_input": "2020-11-07T16:47:57.692072Z",
     "iopub.status.busy": "2020-11-07T16:47:57.691285Z",
     "iopub.status.idle": "2020-11-07T16:48:00.048418Z",
     "shell.execute_reply": "2020-11-07T16:48:00.047148Z"
    },
    "papermill": {
     "duration": 2.409598,
     "end_time": "2020-11-07T16:48:00.048567",
     "exception": false,
     "start_time": "2020-11-07T16:47:57.638969",
     "status": "completed"
    },
    "tags": []
   },
   "outputs": [],
   "source": [
    "#np.load('/kaggle/working/samples_np.npy')\n",
    "#np.load('/kaggle/working/all_labels_np.npy')\n",
    "all_samples=np.load('/kaggle/input/nlp-case-study-speech-to-text/samples_np.npy')\n",
    "all_labels=np.load('/kaggle/input/nlp-case-study-speech-to-text/all_labels_np.npy')"
   ]
  },
  {
   "cell_type": "code",
   "execution_count": 22,
   "metadata": {
    "execution": {
     "iopub.execute_input": "2020-11-07T16:48:00.152843Z",
     "iopub.status.busy": "2020-11-07T16:48:00.151412Z",
     "iopub.status.idle": "2020-11-07T16:48:00.155688Z",
     "shell.execute_reply": "2020-11-07T16:48:00.156219Z"
    },
    "papermill": {
     "duration": 0.060356,
     "end_time": "2020-11-07T16:48:00.156371",
     "exception": false,
     "start_time": "2020-11-07T16:48:00.096015",
     "status": "completed"
    },
    "tags": []
   },
   "outputs": [
    {
     "data": {
      "text/plain": [
       "array(['four', 'five', 'five', ..., 'nine', 'down', 'right'], dtype='<U5')"
      ]
     },
     "execution_count": 22,
     "metadata": {},
     "output_type": "execute_result"
    }
   ],
   "source": [
    "all_labels"
   ]
  },
  {
   "cell_type": "code",
   "execution_count": 23,
   "metadata": {
    "execution": {
     "iopub.execute_input": "2020-11-07T16:48:00.261194Z",
     "iopub.status.busy": "2020-11-07T16:48:00.260441Z",
     "iopub.status.idle": "2020-11-07T16:48:00.270191Z",
     "shell.execute_reply": "2020-11-07T16:48:00.269465Z"
    },
    "papermill": {
     "duration": 0.065785,
     "end_time": "2020-11-07T16:48:00.270317",
     "exception": false,
     "start_time": "2020-11-07T16:48:00.204532",
     "status": "completed"
    },
    "tags": []
   },
   "outputs": [],
   "source": [
    "time_steps=8000\n",
    "lb=LabelEncoder()\n",
    "all_samples=all_samples.reshape(-1,time_steps,1)\n",
    "all_labels_int=lb.fit_transform(all_labels)\n",
    "outcome_class=list(lb.classes_)\n",
    "all_labels_one_hot=to_categorical(all_labels_int, num_classes=len(needed_labels))"
   ]
  },
  {
   "cell_type": "code",
   "execution_count": 24,
   "metadata": {
    "execution": {
     "iopub.execute_input": "2020-11-07T16:48:00.372901Z",
     "iopub.status.busy": "2020-11-07T16:48:00.372102Z",
     "iopub.status.idle": "2020-11-07T16:48:00.378222Z",
     "shell.execute_reply": "2020-11-07T16:48:00.378813Z"
    },
    "papermill": {
     "duration": 0.060539,
     "end_time": "2020-11-07T16:48:00.378964",
     "exception": false,
     "start_time": "2020-11-07T16:48:00.318425",
     "status": "completed"
    },
    "tags": []
   },
   "outputs": [
    {
     "data": {
      "text/plain": [
       "array([0., 0., 0., 1., 0., 0., 0., 0., 0., 0., 0., 0., 0., 0., 0.],\n",
       "      dtype=float32)"
      ]
     },
     "execution_count": 24,
     "metadata": {},
     "output_type": "execute_result"
    }
   ],
   "source": [
    "all_labels_one_hot[0]"
   ]
  },
  {
   "cell_type": "code",
   "execution_count": 25,
   "metadata": {
    "execution": {
     "iopub.execute_input": "2020-11-07T16:48:00.481973Z",
     "iopub.status.busy": "2020-11-07T16:48:00.481212Z",
     "iopub.status.idle": "2020-11-07T16:48:00.487690Z",
     "shell.execute_reply": "2020-11-07T16:48:00.487125Z"
    },
    "papermill": {
     "duration": 0.060395,
     "end_time": "2020-11-07T16:48:00.487828",
     "exception": false,
     "start_time": "2020-11-07T16:48:00.427433",
     "status": "completed"
    },
    "tags": []
   },
   "outputs": [
    {
     "data": {
      "text/plain": [
       "['down',\n",
       " 'eight',\n",
       " 'five',\n",
       " 'four',\n",
       " 'left',\n",
       " 'nine',\n",
       " 'no',\n",
       " 'one',\n",
       " 'right',\n",
       " 'seven',\n",
       " 'six',\n",
       " 'three',\n",
       " 'two',\n",
       " 'up',\n",
       " 'yes']"
      ]
     },
     "execution_count": 25,
     "metadata": {},
     "output_type": "execute_result"
    }
   ],
   "source": [
    "outcome_class"
   ]
  },
  {
   "cell_type": "code",
   "execution_count": 26,
   "metadata": {
    "execution": {
     "iopub.execute_input": "2020-11-07T16:48:00.593418Z",
     "iopub.status.busy": "2020-11-07T16:48:00.592377Z",
     "iopub.status.idle": "2020-11-07T16:48:00.860972Z",
     "shell.execute_reply": "2020-11-07T16:48:00.860361Z"
    },
    "papermill": {
     "duration": 0.323894,
     "end_time": "2020-11-07T16:48:00.861105",
     "exception": false,
     "start_time": "2020-11-07T16:48:00.537211",
     "status": "completed"
    },
    "tags": []
   },
   "outputs": [],
   "source": [
    "X_train, X_test, y_train, y_test= train_test_split(all_samples,all_labels_one_hot,test_size=0.2,random_state=42)"
   ]
  },
  {
   "cell_type": "code",
   "execution_count": 27,
   "metadata": {
    "execution": {
     "iopub.execute_input": "2020-11-07T16:48:00.966961Z",
     "iopub.status.busy": "2020-11-07T16:48:00.966041Z",
     "iopub.status.idle": "2020-11-07T16:48:00.970737Z",
     "shell.execute_reply": "2020-11-07T16:48:00.971303Z"
    },
    "papermill": {
     "duration": 0.060875,
     "end_time": "2020-11-07T16:48:00.971457",
     "exception": false,
     "start_time": "2020-11-07T16:48:00.910582",
     "status": "completed"
    },
    "tags": []
   },
   "outputs": [
    {
     "name": "stdout",
     "output_type": "stream",
     "text": [
      "Size of training set:  21790\n",
      "Size of testing set:  5448\n"
     ]
    }
   ],
   "source": [
    "print(\"Size of training set: \",X_train.shape[0])\n",
    "print(\"Size of testing set: \",X_test.shape[0])"
   ]
  },
  {
   "cell_type": "code",
   "execution_count": 28,
   "metadata": {
    "execution": {
     "iopub.execute_input": "2020-11-07T16:48:01.078133Z",
     "iopub.status.busy": "2020-11-07T16:48:01.077274Z",
     "iopub.status.idle": "2020-11-07T16:48:01.082024Z",
     "shell.execute_reply": "2020-11-07T16:48:01.081445Z"
    },
    "papermill": {
     "duration": 0.06017,
     "end_time": "2020-11-07T16:48:01.082145",
     "exception": false,
     "start_time": "2020-11-07T16:48:01.021975",
     "status": "completed"
    },
    "tags": []
   },
   "outputs": [],
   "source": [
    "BATCH_SIZE=256\n",
    "LR=1e-3\n",
    "STEPS_PER_EPOCH=X_train.shape[0]//BATCH_SIZE\n",
    "EPOCHS=200"
   ]
  },
  {
   "cell_type": "code",
   "execution_count": 29,
   "metadata": {
    "execution": {
     "iopub.execute_input": "2020-11-07T16:48:01.199482Z",
     "iopub.status.busy": "2020-11-07T16:48:01.198558Z",
     "iopub.status.idle": "2020-11-07T16:48:06.226199Z",
     "shell.execute_reply": "2020-11-07T16:48:06.226961Z"
    },
    "papermill": {
     "duration": 5.093986,
     "end_time": "2020-11-07T16:48:06.227136",
     "exception": false,
     "start_time": "2020-11-07T16:48:01.133150",
     "status": "completed"
    },
    "tags": []
   },
   "outputs": [],
   "source": [
    "#Models DeepSpeech2 and Wav2letter++ (From Facebook)\n",
    "model=Sequential([\n",
    "    Input(shape=(time_steps,1)),\n",
    "    BatchNormalization(axis=-1, momentum=0.99, epsilon=1e-3, center=True, scale=True),\n",
    "    \n",
    "    Conv1D(8,13, padding='valid', activation='relu', strides=1),\n",
    "    MaxPool1D(3),\n",
    "    Dropout(0.3),\n",
    "    \n",
    "    Conv1D(16, 11, padding='valid', activation='relu', strides=1),\n",
    "    MaxPool1D(3),\n",
    "    Dropout(0.3),\n",
    "    \n",
    "    Conv1D(32, 9, padding='valid', activation='relu', strides=1),\n",
    "    MaxPool1D(3),\n",
    "    Dropout(0.3),\n",
    "    \n",
    "    BatchNormalization(axis=-1, momentum=0.99, epsilon=1e-3, center=True, scale=True),\n",
    "    \n",
    "    Bidirectional(LSTM(128, return_sequences=True)),\n",
    "    Bidirectional(LSTM(128, return_sequences=True)),\n",
    "    Bidirectional(LSTM(128, return_sequences=True)),\n",
    "    \n",
    "    BatchNormalization(axis=-1, momentum=0.99, epsilon=1e-3, center=True, scale=True),\n",
    "    Flatten(),\n",
    "    Dense(256,activation=\"relu\"),\n",
    "    Dense(len(outcome_class),activation='softmax')\n",
    "])"
   ]
  },
  {
   "cell_type": "code",
   "execution_count": 30,
   "metadata": {
    "execution": {
     "iopub.execute_input": "2020-11-07T16:48:06.341087Z",
     "iopub.status.busy": "2020-11-07T16:48:06.338262Z",
     "iopub.status.idle": "2020-11-07T16:48:06.359015Z",
     "shell.execute_reply": "2020-11-07T16:48:06.361592Z"
    },
    "papermill": {
     "duration": 0.082137,
     "end_time": "2020-11-07T16:48:06.361856",
     "exception": false,
     "start_time": "2020-11-07T16:48:06.279719",
     "status": "completed"
    },
    "tags": []
   },
   "outputs": [
    {
     "name": "stdout",
     "output_type": "stream",
     "text": [
      "Model: \"sequential\"\n",
      "_________________________________________________________________\n",
      "Layer (type)                 Output Shape              Param #   \n",
      "=================================================================\n",
      "batch_normalization (BatchNo (None, 8000, 1)           4         \n",
      "_________________________________________________________________\n",
      "conv1d (Conv1D)              (None, 7988, 8)           112       \n",
      "_________________________________________________________________\n",
      "max_pooling1d (MaxPooling1D) (None, 2662, 8)           0         \n",
      "_________________________________________________________________\n",
      "dropout (Dropout)            (None, 2662, 8)           0         \n",
      "_________________________________________________________________\n",
      "conv1d_1 (Conv1D)            (None, 2652, 16)          1424      \n",
      "_________________________________________________________________\n",
      "max_pooling1d_1 (MaxPooling1 (None, 884, 16)           0         \n",
      "_________________________________________________________________\n",
      "dropout_1 (Dropout)          (None, 884, 16)           0         \n",
      "_________________________________________________________________\n",
      "conv1d_2 (Conv1D)            (None, 876, 32)           4640      \n",
      "_________________________________________________________________\n",
      "max_pooling1d_2 (MaxPooling1 (None, 292, 32)           0         \n",
      "_________________________________________________________________\n",
      "dropout_2 (Dropout)          (None, 292, 32)           0         \n",
      "_________________________________________________________________\n",
      "batch_normalization_1 (Batch (None, 292, 32)           128       \n",
      "_________________________________________________________________\n",
      "bidirectional (Bidirectional (None, 292, 256)          164864    \n",
      "_________________________________________________________________\n",
      "bidirectional_1 (Bidirection (None, 292, 256)          394240    \n",
      "_________________________________________________________________\n",
      "bidirectional_2 (Bidirection (None, 292, 256)          394240    \n",
      "_________________________________________________________________\n",
      "batch_normalization_2 (Batch (None, 292, 256)          1024      \n",
      "_________________________________________________________________\n",
      "flatten (Flatten)            (None, 74752)             0         \n",
      "_________________________________________________________________\n",
      "dense (Dense)                (None, 256)               19136768  \n",
      "_________________________________________________________________\n",
      "dense_1 (Dense)              (None, 15)                3855      \n",
      "=================================================================\n",
      "Total params: 20,101,299\n",
      "Trainable params: 20,100,721\n",
      "Non-trainable params: 578\n",
      "_________________________________________________________________\n"
     ]
    }
   ],
   "source": [
    "model.summary()"
   ]
  },
  {
   "cell_type": "code",
   "execution_count": 31,
   "metadata": {
    "execution": {
     "iopub.execute_input": "2020-11-07T16:48:06.505036Z",
     "iopub.status.busy": "2020-11-07T16:48:06.499583Z",
     "iopub.status.idle": "2020-11-07T16:48:06.514322Z",
     "shell.execute_reply": "2020-11-07T16:48:06.515049Z"
    },
    "papermill": {
     "duration": 0.088584,
     "end_time": "2020-11-07T16:48:06.515207",
     "exception": false,
     "start_time": "2020-11-07T16:48:06.426623",
     "status": "completed"
    },
    "tags": []
   },
   "outputs": [],
   "source": [
    "model.compile(loss='categorical_crossentropy',optimizer=Adam(LR),metrics=['accuracy'])"
   ]
  },
  {
   "cell_type": "code",
   "execution_count": 32,
   "metadata": {
    "execution": {
     "iopub.execute_input": "2020-11-07T16:48:06.630792Z",
     "iopub.status.busy": "2020-11-07T16:48:06.628656Z",
     "iopub.status.idle": "2020-11-07T16:48:06.632900Z",
     "shell.execute_reply": "2020-11-07T16:48:06.632243Z"
    },
    "papermill": {
     "duration": 0.064564,
     "end_time": "2020-11-07T16:48:06.633029",
     "exception": false,
     "start_time": "2020-11-07T16:48:06.568465",
     "status": "completed"
    },
    "tags": []
   },
   "outputs": [],
   "source": [
    "#model.load_weights('/kaggle/input/nlp-case-study-speech-to-text/best_model.hdf5')"
   ]
  },
  {
   "cell_type": "code",
   "execution_count": 33,
   "metadata": {
    "execution": {
     "iopub.execute_input": "2020-11-07T16:48:06.747067Z",
     "iopub.status.busy": "2020-11-07T16:48:06.745320Z",
     "iopub.status.idle": "2020-11-07T16:48:06.747831Z",
     "shell.execute_reply": "2020-11-07T16:48:06.748334Z"
    },
    "papermill": {
     "duration": 0.062644,
     "end_time": "2020-11-07T16:48:06.748593",
     "exception": false,
     "start_time": "2020-11-07T16:48:06.685949",
     "status": "completed"
    },
    "tags": []
   },
   "outputs": [],
   "source": [
    "checkpoint=ModelCheckpoint('best_model.hdf5',monitor='val_accuracy',verbose=1, save_best_only=True,mode=\"max\")"
   ]
  },
  {
   "cell_type": "code",
   "execution_count": 34,
   "metadata": {
    "execution": {
     "iopub.execute_input": "2020-11-07T16:48:06.879110Z",
     "iopub.status.busy": "2020-11-07T16:48:06.878198Z",
     "iopub.status.idle": "2020-11-07T18:06:32.714173Z",
     "shell.execute_reply": "2020-11-07T18:06:32.713192Z"
    },
    "papermill": {
     "duration": 4705.913708,
     "end_time": "2020-11-07T18:06:32.714320",
     "exception": false,
     "start_time": "2020-11-07T16:48:06.800612",
     "status": "completed"
    },
    "tags": []
   },
   "outputs": [
    {
     "name": "stdout",
     "output_type": "stream",
     "text": [
      "Epoch 1/200\n",
      "85/85 [==============================] - ETA: 0s - loss: 5.6238 - accuracy: 0.0996\n",
      "Epoch 00001: val_accuracy improved from -inf to 0.06443, saving model to best_model.hdf5\n",
      "85/85 [==============================] - 27s 314ms/step - loss: 5.6238 - accuracy: 0.0996 - val_loss: 3.0528 - val_accuracy: 0.0644\n",
      "Epoch 2/200\n",
      "85/85 [==============================] - ETA: 0s - loss: 2.5720 - accuracy: 0.1115\n",
      "Epoch 00002: val_accuracy improved from 0.06443 to 0.08076, saving model to best_model.hdf5\n",
      "85/85 [==============================] - 24s 282ms/step - loss: 2.5720 - accuracy: 0.1115 - val_loss: 2.6962 - val_accuracy: 0.0808\n",
      "Epoch 3/200\n",
      "85/85 [==============================] - ETA: 0s - loss: 2.3796 - accuracy: 0.1653\n",
      "Epoch 00003: val_accuracy improved from 0.08076 to 0.09563, saving model to best_model.hdf5\n",
      "85/85 [==============================] - 24s 283ms/step - loss: 2.3796 - accuracy: 0.1653 - val_loss: 2.6768 - val_accuracy: 0.0956\n",
      "Epoch 4/200\n",
      "85/85 [==============================] - ETA: 0s - loss: 2.0086 - accuracy: 0.2865\n",
      "Epoch 00004: val_accuracy improved from 0.09563 to 0.16557, saving model to best_model.hdf5\n",
      "85/85 [==============================] - 24s 283ms/step - loss: 2.0086 - accuracy: 0.2865 - val_loss: 2.4832 - val_accuracy: 0.1656\n",
      "Epoch 5/200\n",
      "85/85 [==============================] - ETA: 0s - loss: 1.5725 - accuracy: 0.4411\n",
      "Epoch 00005: val_accuracy improved from 0.16557 to 0.27772, saving model to best_model.hdf5\n",
      "85/85 [==============================] - 24s 284ms/step - loss: 1.5725 - accuracy: 0.4411 - val_loss: 2.0232 - val_accuracy: 0.2777\n",
      "Epoch 6/200\n",
      "85/85 [==============================] - ETA: 0s - loss: 1.2520 - accuracy: 0.5720\n",
      "Epoch 00006: val_accuracy improved from 0.27772 to 0.53634, saving model to best_model.hdf5\n",
      "85/85 [==============================] - 24s 284ms/step - loss: 1.2520 - accuracy: 0.5720 - val_loss: 1.3777 - val_accuracy: 0.5363\n",
      "Epoch 7/200\n",
      "85/85 [==============================] - ETA: 0s - loss: 1.0158 - accuracy: 0.6672\n",
      "Epoch 00007: val_accuracy improved from 0.53634 to 0.59471, saving model to best_model.hdf5\n",
      "85/85 [==============================] - 24s 283ms/step - loss: 1.0158 - accuracy: 0.6672 - val_loss: 1.2552 - val_accuracy: 0.5947\n",
      "Epoch 8/200\n",
      "85/85 [==============================] - ETA: 0s - loss: 0.7358 - accuracy: 0.7628\n",
      "Epoch 00008: val_accuracy improved from 0.59471 to 0.71751, saving model to best_model.hdf5\n",
      "85/85 [==============================] - 24s 284ms/step - loss: 0.7358 - accuracy: 0.7628 - val_loss: 0.8674 - val_accuracy: 0.7175\n",
      "Epoch 9/200\n",
      "85/85 [==============================] - ETA: 0s - loss: 0.6256 - accuracy: 0.7970\n",
      "Epoch 00009: val_accuracy improved from 0.71751 to 0.79093, saving model to best_model.hdf5\n",
      "85/85 [==============================] - 24s 281ms/step - loss: 0.6256 - accuracy: 0.7970 - val_loss: 0.6784 - val_accuracy: 0.7909\n",
      "Epoch 10/200\n",
      "85/85 [==============================] - ETA: 0s - loss: 0.5012 - accuracy: 0.8400\n",
      "Epoch 00010: val_accuracy did not improve from 0.79093\n",
      "85/85 [==============================] - 23s 272ms/step - loss: 0.5012 - accuracy: 0.8400 - val_loss: 0.7542 - val_accuracy: 0.7757\n",
      "Epoch 11/200\n",
      "85/85 [==============================] - ETA: 0s - loss: 0.4203 - accuracy: 0.8633\n",
      "Epoch 00011: val_accuracy improved from 0.79093 to 0.82067, saving model to best_model.hdf5\n",
      "85/85 [==============================] - 24s 285ms/step - loss: 0.4203 - accuracy: 0.8633 - val_loss: 0.5823 - val_accuracy: 0.8207\n",
      "Epoch 12/200\n",
      "85/85 [==============================] - ETA: 0s - loss: 0.3637 - accuracy: 0.8834\n",
      "Epoch 00012: val_accuracy improved from 0.82067 to 0.86307, saving model to best_model.hdf5\n",
      "85/85 [==============================] - 24s 286ms/step - loss: 0.3637 - accuracy: 0.8834 - val_loss: 0.4675 - val_accuracy: 0.8631\n",
      "Epoch 13/200\n",
      "85/85 [==============================] - ETA: 0s - loss: 0.3360 - accuracy: 0.8902\n",
      "Epoch 00013: val_accuracy improved from 0.86307 to 0.87500, saving model to best_model.hdf5\n",
      "85/85 [==============================] - 24s 283ms/step - loss: 0.3360 - accuracy: 0.8902 - val_loss: 0.3964 - val_accuracy: 0.8750\n",
      "Epoch 14/200\n",
      "85/85 [==============================] - ETA: 0s - loss: 0.3276 - accuracy: 0.8947\n",
      "Epoch 00014: val_accuracy did not improve from 0.87500\n",
      "85/85 [==============================] - 23s 273ms/step - loss: 0.3276 - accuracy: 0.8947 - val_loss: 0.4794 - val_accuracy: 0.8655\n",
      "Epoch 15/200\n",
      "85/85 [==============================] - ETA: 0s - loss: 0.2790 - accuracy: 0.9087\n",
      "Epoch 00015: val_accuracy improved from 0.87500 to 0.88344, saving model to best_model.hdf5\n",
      "85/85 [==============================] - 24s 284ms/step - loss: 0.2790 - accuracy: 0.9087 - val_loss: 0.3911 - val_accuracy: 0.8834\n",
      "Epoch 16/200\n",
      "85/85 [==============================] - ETA: 0s - loss: 0.2890 - accuracy: 0.9066\n",
      "Epoch 00016: val_accuracy did not improve from 0.88344\n",
      "85/85 [==============================] - 23s 275ms/step - loss: 0.2890 - accuracy: 0.9066 - val_loss: 0.4739 - val_accuracy: 0.8605\n",
      "Epoch 17/200\n",
      "85/85 [==============================] - ETA: 0s - loss: 0.2530 - accuracy: 0.9176\n",
      "Epoch 00017: val_accuracy did not improve from 0.88344\n",
      "85/85 [==============================] - 23s 272ms/step - loss: 0.2530 - accuracy: 0.9176 - val_loss: 0.4294 - val_accuracy: 0.8757\n",
      "Epoch 18/200\n",
      "85/85 [==============================] - ETA: 0s - loss: 0.2302 - accuracy: 0.9252\n",
      "Epoch 00018: val_accuracy improved from 0.88344 to 0.88950, saving model to best_model.hdf5\n",
      "85/85 [==============================] - 24s 283ms/step - loss: 0.2302 - accuracy: 0.9252 - val_loss: 0.3978 - val_accuracy: 0.8895\n",
      "Epoch 19/200\n",
      "85/85 [==============================] - ETA: 0s - loss: 0.2368 - accuracy: 0.9233\n",
      "Epoch 00019: val_accuracy did not improve from 0.88950\n",
      "85/85 [==============================] - 23s 275ms/step - loss: 0.2368 - accuracy: 0.9233 - val_loss: 0.4201 - val_accuracy: 0.8833\n",
      "Epoch 20/200\n",
      "85/85 [==============================] - ETA: 0s - loss: 0.1858 - accuracy: 0.9367\n",
      "Epoch 00020: val_accuracy improved from 0.88950 to 0.90290, saving model to best_model.hdf5\n",
      "85/85 [==============================] - 24s 285ms/step - loss: 0.1858 - accuracy: 0.9367 - val_loss: 0.3539 - val_accuracy: 0.9029\n",
      "Epoch 21/200\n",
      "85/85 [==============================] - ETA: 0s - loss: 0.1764 - accuracy: 0.9425\n",
      "Epoch 00021: val_accuracy did not improve from 0.90290\n",
      "85/85 [==============================] - 23s 273ms/step - loss: 0.1764 - accuracy: 0.9425 - val_loss: 0.4379 - val_accuracy: 0.8878\n",
      "Epoch 22/200\n",
      "85/85 [==============================] - ETA: 0s - loss: 0.1677 - accuracy: 0.9445\n",
      "Epoch 00022: val_accuracy did not improve from 0.90290\n",
      "85/85 [==============================] - 23s 272ms/step - loss: 0.1677 - accuracy: 0.9445 - val_loss: 0.3647 - val_accuracy: 0.9011\n",
      "Epoch 23/200\n",
      "85/85 [==============================] - ETA: 0s - loss: 0.1804 - accuracy: 0.9411\n",
      "Epoch 00023: val_accuracy did not improve from 0.90290\n",
      "85/85 [==============================] - 23s 273ms/step - loss: 0.1804 - accuracy: 0.9411 - val_loss: 0.3861 - val_accuracy: 0.8987\n",
      "Epoch 24/200\n",
      "85/85 [==============================] - ETA: 0s - loss: 0.1719 - accuracy: 0.9423\n",
      "Epoch 00024: val_accuracy did not improve from 0.90290\n",
      "85/85 [==============================] - 23s 274ms/step - loss: 0.1719 - accuracy: 0.9423 - val_loss: 0.3783 - val_accuracy: 0.9007\n",
      "Epoch 25/200\n",
      "85/85 [==============================] - ETA: 0s - loss: 0.1493 - accuracy: 0.9500\n",
      "Epoch 00025: val_accuracy improved from 0.90290 to 0.90437, saving model to best_model.hdf5\n",
      "85/85 [==============================] - 24s 284ms/step - loss: 0.1493 - accuracy: 0.9500 - val_loss: 0.3875 - val_accuracy: 0.9044\n",
      "Epoch 26/200\n",
      "85/85 [==============================] - ETA: 0s - loss: 0.1664 - accuracy: 0.9461\n",
      "Epoch 00026: val_accuracy did not improve from 0.90437\n",
      "85/85 [==============================] - 23s 274ms/step - loss: 0.1664 - accuracy: 0.9461 - val_loss: 0.4222 - val_accuracy: 0.8978\n",
      "Epoch 27/200\n",
      "85/85 [==============================] - ETA: 0s - loss: 0.1299 - accuracy: 0.9583\n",
      "Epoch 00027: val_accuracy did not improve from 0.90437\n",
      "85/85 [==============================] - 23s 275ms/step - loss: 0.1299 - accuracy: 0.9583 - val_loss: 0.4037 - val_accuracy: 0.9036\n",
      "Epoch 28/200\n",
      "85/85 [==============================] - ETA: 0s - loss: 0.1251 - accuracy: 0.9602\n",
      "Epoch 00028: val_accuracy did not improve from 0.90437\n",
      "85/85 [==============================] - 23s 273ms/step - loss: 0.1251 - accuracy: 0.9602 - val_loss: 0.3737 - val_accuracy: 0.9042\n",
      "Epoch 29/200\n",
      "85/85 [==============================] - ETA: 0s - loss: 0.1418 - accuracy: 0.9531\n",
      "Epoch 00029: val_accuracy improved from 0.90437 to 0.91006, saving model to best_model.hdf5\n",
      "85/85 [==============================] - 24s 283ms/step - loss: 0.1418 - accuracy: 0.9531 - val_loss: 0.3450 - val_accuracy: 0.9101\n",
      "Epoch 30/200\n",
      "85/85 [==============================] - ETA: 0s - loss: 0.1258 - accuracy: 0.9585\n",
      "Epoch 00030: val_accuracy did not improve from 0.91006\n",
      "85/85 [==============================] - 23s 273ms/step - loss: 0.1258 - accuracy: 0.9585 - val_loss: 0.4893 - val_accuracy: 0.8871\n",
      "Epoch 31/200\n",
      "85/85 [==============================] - ETA: 0s - loss: 0.1034 - accuracy: 0.9649\n",
      "Epoch 00031: val_accuracy did not improve from 0.91006\n",
      "85/85 [==============================] - 23s 273ms/step - loss: 0.1034 - accuracy: 0.9649 - val_loss: 0.4045 - val_accuracy: 0.9027\n",
      "Epoch 32/200\n",
      "85/85 [==============================] - ETA: 0s - loss: 0.0902 - accuracy: 0.9712\n",
      "Epoch 00032: val_accuracy did not improve from 0.91006\n",
      "85/85 [==============================] - 23s 273ms/step - loss: 0.0902 - accuracy: 0.9712 - val_loss: 0.3974 - val_accuracy: 0.9055\n",
      "Epoch 33/200\n",
      "85/85 [==============================] - ETA: 0s - loss: 0.1008 - accuracy: 0.9675\n",
      "Epoch 00033: val_accuracy did not improve from 0.91006\n",
      "85/85 [==============================] - 23s 273ms/step - loss: 0.1008 - accuracy: 0.9675 - val_loss: 0.3906 - val_accuracy: 0.9046\n",
      "Epoch 34/200\n",
      "85/85 [==============================] - ETA: 0s - loss: 0.1100 - accuracy: 0.9638\n",
      "Epoch 00034: val_accuracy did not improve from 0.91006\n",
      "85/85 [==============================] - 23s 273ms/step - loss: 0.1100 - accuracy: 0.9638 - val_loss: 0.4111 - val_accuracy: 0.9055\n",
      "Epoch 35/200\n",
      "85/85 [==============================] - ETA: 0s - loss: 0.0901 - accuracy: 0.9707\n",
      "Epoch 00035: val_accuracy improved from 0.91006 to 0.91153, saving model to best_model.hdf5\n",
      "85/85 [==============================] - 24s 284ms/step - loss: 0.0901 - accuracy: 0.9707 - val_loss: 0.3809 - val_accuracy: 0.9115\n",
      "Epoch 36/200\n",
      "85/85 [==============================] - ETA: 0s - loss: 0.1026 - accuracy: 0.9662\n",
      "Epoch 00036: val_accuracy did not improve from 0.91153\n",
      "85/85 [==============================] - 23s 273ms/step - loss: 0.1026 - accuracy: 0.9662 - val_loss: 0.3810 - val_accuracy: 0.9088\n",
      "Epoch 37/200\n",
      "85/85 [==============================] - ETA: 0s - loss: 0.0939 - accuracy: 0.9699\n",
      "Epoch 00037: val_accuracy did not improve from 0.91153\n",
      "85/85 [==============================] - 23s 272ms/step - loss: 0.0939 - accuracy: 0.9699 - val_loss: 0.4046 - val_accuracy: 0.9058\n",
      "Epoch 38/200\n",
      "85/85 [==============================] - ETA: 0s - loss: 0.0983 - accuracy: 0.9676\n",
      "Epoch 00038: val_accuracy did not improve from 0.91153\n",
      "85/85 [==============================] - 23s 273ms/step - loss: 0.0983 - accuracy: 0.9676 - val_loss: 0.4247 - val_accuracy: 0.9025\n",
      "Epoch 39/200\n",
      "85/85 [==============================] - ETA: 0s - loss: 0.0836 - accuracy: 0.9734\n",
      "Epoch 00039: val_accuracy improved from 0.91153 to 0.91722, saving model to best_model.hdf5\n",
      "85/85 [==============================] - 24s 284ms/step - loss: 0.0836 - accuracy: 0.9734 - val_loss: 0.3583 - val_accuracy: 0.9172\n",
      "Epoch 40/200\n",
      "85/85 [==============================] - ETA: 0s - loss: 0.1267 - accuracy: 0.9630\n",
      "Epoch 00040: val_accuracy did not improve from 0.91722\n",
      "85/85 [==============================] - 23s 273ms/step - loss: 0.1267 - accuracy: 0.9630 - val_loss: 0.4653 - val_accuracy: 0.8970\n",
      "Epoch 41/200\n",
      "85/85 [==============================] - ETA: 0s - loss: 0.1159 - accuracy: 0.9625\n",
      "Epoch 00041: val_accuracy did not improve from 0.91722\n",
      "85/85 [==============================] - 23s 273ms/step - loss: 0.1159 - accuracy: 0.9625 - val_loss: 0.3789 - val_accuracy: 0.9130\n",
      "Epoch 42/200\n",
      "85/85 [==============================] - ETA: 0s - loss: 0.0728 - accuracy: 0.9770\n",
      "Epoch 00042: val_accuracy did not improve from 0.91722\n",
      "85/85 [==============================] - 23s 274ms/step - loss: 0.0728 - accuracy: 0.9770 - val_loss: 0.3991 - val_accuracy: 0.9104\n",
      "Epoch 43/200\n",
      "85/85 [==============================] - ETA: 0s - loss: 0.0748 - accuracy: 0.9751\n",
      "Epoch 00043: val_accuracy did not improve from 0.91722\n",
      "85/85 [==============================] - 23s 272ms/step - loss: 0.0748 - accuracy: 0.9751 - val_loss: 0.4217 - val_accuracy: 0.9091\n",
      "Epoch 44/200\n",
      "85/85 [==============================] - ETA: 0s - loss: 0.1154 - accuracy: 0.9647\n",
      "Epoch 00044: val_accuracy did not improve from 0.91722\n",
      "85/85 [==============================] - 23s 273ms/step - loss: 0.1154 - accuracy: 0.9647 - val_loss: 0.4228 - val_accuracy: 0.9022\n",
      "Epoch 45/200\n",
      "85/85 [==============================] - ETA: 0s - loss: 0.0983 - accuracy: 0.9686\n",
      "Epoch 00045: val_accuracy did not improve from 0.91722\n",
      "85/85 [==============================] - 23s 272ms/step - loss: 0.0983 - accuracy: 0.9686 - val_loss: 0.4089 - val_accuracy: 0.9093\n",
      "Epoch 46/200\n",
      "85/85 [==============================] - ETA: 0s - loss: 0.0747 - accuracy: 0.9748\n",
      "Epoch 00046: val_accuracy improved from 0.91722 to 0.91814, saving model to best_model.hdf5\n",
      "85/85 [==============================] - 24s 281ms/step - loss: 0.0747 - accuracy: 0.9748 - val_loss: 0.4134 - val_accuracy: 0.9181\n",
      "Epoch 47/200\n",
      "85/85 [==============================] - ETA: 0s - loss: 0.0713 - accuracy: 0.9771\n",
      "Epoch 00047: val_accuracy did not improve from 0.91814\n",
      "85/85 [==============================] - 23s 274ms/step - loss: 0.0713 - accuracy: 0.9771 - val_loss: 0.4180 - val_accuracy: 0.9137\n",
      "Epoch 48/200\n",
      "85/85 [==============================] - ETA: 0s - loss: 0.0752 - accuracy: 0.9765\n",
      "Epoch 00048: val_accuracy did not improve from 0.91814\n",
      "85/85 [==============================] - 23s 274ms/step - loss: 0.0752 - accuracy: 0.9765 - val_loss: 0.4098 - val_accuracy: 0.9124\n",
      "Epoch 49/200\n",
      "85/85 [==============================] - ETA: 0s - loss: 0.0823 - accuracy: 0.9740\n",
      "Epoch 00049: val_accuracy did not improve from 0.91814\n",
      "85/85 [==============================] - 23s 273ms/step - loss: 0.0823 - accuracy: 0.9740 - val_loss: 0.3942 - val_accuracy: 0.9102\n",
      "Epoch 50/200\n",
      "85/85 [==============================] - ETA: 0s - loss: 0.0812 - accuracy: 0.9731\n",
      "Epoch 00050: val_accuracy did not improve from 0.91814\n",
      "85/85 [==============================] - 23s 274ms/step - loss: 0.0812 - accuracy: 0.9731 - val_loss: 0.4641 - val_accuracy: 0.9068\n",
      "Epoch 51/200\n",
      "85/85 [==============================] - ETA: 0s - loss: 0.0760 - accuracy: 0.9762\n",
      "Epoch 00051: val_accuracy improved from 0.91814 to 0.91850, saving model to best_model.hdf5\n",
      "85/85 [==============================] - 24s 282ms/step - loss: 0.0760 - accuracy: 0.9762 - val_loss: 0.3798 - val_accuracy: 0.9185\n",
      "Epoch 52/200\n",
      "85/85 [==============================] - ETA: 0s - loss: 0.1224 - accuracy: 0.9622\n",
      "Epoch 00052: val_accuracy did not improve from 0.91850\n",
      "85/85 [==============================] - 23s 274ms/step - loss: 0.1224 - accuracy: 0.9622 - val_loss: 0.4366 - val_accuracy: 0.8998\n",
      "Epoch 53/200\n",
      "85/85 [==============================] - ETA: 0s - loss: 0.1123 - accuracy: 0.9656\n",
      "Epoch 00053: val_accuracy did not improve from 0.91850\n",
      "85/85 [==============================] - 23s 271ms/step - loss: 0.1123 - accuracy: 0.9656 - val_loss: 0.3927 - val_accuracy: 0.9146\n",
      "Epoch 54/200\n",
      "85/85 [==============================] - ETA: 0s - loss: 0.0690 - accuracy: 0.9787\n",
      "Epoch 00054: val_accuracy did not improve from 0.91850\n",
      "85/85 [==============================] - 23s 273ms/step - loss: 0.0690 - accuracy: 0.9787 - val_loss: 0.4222 - val_accuracy: 0.9156\n",
      "Epoch 55/200\n",
      "85/85 [==============================] - ETA: 0s - loss: 0.0540 - accuracy: 0.9821\n",
      "Epoch 00055: val_accuracy did not improve from 0.91850\n",
      "85/85 [==============================] - 23s 273ms/step - loss: 0.0540 - accuracy: 0.9821 - val_loss: 0.5202 - val_accuracy: 0.8946\n",
      "Epoch 56/200\n",
      "85/85 [==============================] - ETA: 0s - loss: 0.0747 - accuracy: 0.9767\n",
      "Epoch 00056: val_accuracy did not improve from 0.91850\n",
      "85/85 [==============================] - 23s 272ms/step - loss: 0.0747 - accuracy: 0.9767 - val_loss: 0.4525 - val_accuracy: 0.9080\n",
      "Epoch 57/200\n",
      "85/85 [==============================] - ETA: 0s - loss: 0.0741 - accuracy: 0.9757\n",
      "Epoch 00057: val_accuracy did not improve from 0.91850\n",
      "85/85 [==============================] - 23s 273ms/step - loss: 0.0741 - accuracy: 0.9757 - val_loss: 0.4587 - val_accuracy: 0.9106\n",
      "Epoch 58/200\n",
      "85/85 [==============================] - ETA: 0s - loss: 0.0604 - accuracy: 0.9805\n",
      "Epoch 00058: val_accuracy improved from 0.91850 to 0.92015, saving model to best_model.hdf5\n",
      "85/85 [==============================] - 24s 285ms/step - loss: 0.0604 - accuracy: 0.9805 - val_loss: 0.4071 - val_accuracy: 0.9202\n",
      "Epoch 59/200\n",
      "85/85 [==============================] - ETA: 0s - loss: 0.0437 - accuracy: 0.9844\n",
      "Epoch 00059: val_accuracy improved from 0.92015 to 0.92493, saving model to best_model.hdf5\n",
      "85/85 [==============================] - 24s 283ms/step - loss: 0.0437 - accuracy: 0.9844 - val_loss: 0.3872 - val_accuracy: 0.9249\n",
      "Epoch 60/200\n",
      "85/85 [==============================] - ETA: 0s - loss: 0.0457 - accuracy: 0.9857\n",
      "Epoch 00060: val_accuracy did not improve from 0.92493\n",
      "85/85 [==============================] - 23s 275ms/step - loss: 0.0457 - accuracy: 0.9857 - val_loss: 0.3975 - val_accuracy: 0.9183\n",
      "Epoch 61/200\n",
      "85/85 [==============================] - ETA: 0s - loss: 0.0501 - accuracy: 0.9846\n",
      "Epoch 00061: val_accuracy did not improve from 0.92493\n",
      "85/85 [==============================] - 23s 273ms/step - loss: 0.0501 - accuracy: 0.9846 - val_loss: 0.4403 - val_accuracy: 0.9117\n",
      "Epoch 62/200\n",
      "85/85 [==============================] - ETA: 0s - loss: 0.0698 - accuracy: 0.9797\n",
      "Epoch 00062: val_accuracy did not improve from 0.92493\n",
      "85/85 [==============================] - 23s 273ms/step - loss: 0.0698 - accuracy: 0.9797 - val_loss: 0.4063 - val_accuracy: 0.9242\n",
      "Epoch 63/200\n",
      "85/85 [==============================] - ETA: 0s - loss: 0.0490 - accuracy: 0.9839\n",
      "Epoch 00063: val_accuracy did not improve from 0.92493\n",
      "85/85 [==============================] - 23s 274ms/step - loss: 0.0490 - accuracy: 0.9839 - val_loss: 0.3847 - val_accuracy: 0.9224\n",
      "Epoch 64/200\n",
      "85/85 [==============================] - ETA: 0s - loss: 0.0684 - accuracy: 0.9791\n",
      "Epoch 00064: val_accuracy did not improve from 0.92493\n",
      "85/85 [==============================] - 23s 273ms/step - loss: 0.0684 - accuracy: 0.9791 - val_loss: 0.4627 - val_accuracy: 0.9069\n",
      "Epoch 65/200\n",
      "85/85 [==============================] - ETA: 0s - loss: 0.0657 - accuracy: 0.9797\n",
      "Epoch 00065: val_accuracy did not improve from 0.92493\n",
      "85/85 [==============================] - 23s 272ms/step - loss: 0.0657 - accuracy: 0.9797 - val_loss: 0.3742 - val_accuracy: 0.9224\n",
      "Epoch 66/200\n",
      "85/85 [==============================] - ETA: 0s - loss: 0.0542 - accuracy: 0.9828\n",
      "Epoch 00066: val_accuracy did not improve from 0.92493\n",
      "85/85 [==============================] - 23s 273ms/step - loss: 0.0542 - accuracy: 0.9828 - val_loss: 0.4820 - val_accuracy: 0.9134\n",
      "Epoch 67/200\n",
      "85/85 [==============================] - ETA: 0s - loss: 0.0656 - accuracy: 0.9784\n",
      "Epoch 00067: val_accuracy did not improve from 0.92493\n",
      "85/85 [==============================] - 23s 273ms/step - loss: 0.0656 - accuracy: 0.9784 - val_loss: 0.4862 - val_accuracy: 0.9068\n",
      "Epoch 68/200\n",
      "85/85 [==============================] - ETA: 0s - loss: 0.0585 - accuracy: 0.9815\n",
      "Epoch 00068: val_accuracy did not improve from 0.92493\n",
      "85/85 [==============================] - 23s 271ms/step - loss: 0.0585 - accuracy: 0.9815 - val_loss: 0.4524 - val_accuracy: 0.9150\n",
      "Epoch 69/200\n",
      "85/85 [==============================] - ETA: 0s - loss: 0.0635 - accuracy: 0.9796\n",
      "Epoch 00069: val_accuracy did not improve from 0.92493\n",
      "85/85 [==============================] - 23s 272ms/step - loss: 0.0635 - accuracy: 0.9796 - val_loss: 0.3816 - val_accuracy: 0.9214\n",
      "Epoch 70/200\n",
      "85/85 [==============================] - ETA: 0s - loss: 0.0586 - accuracy: 0.9817\n",
      "Epoch 00070: val_accuracy did not improve from 0.92493\n",
      "85/85 [==============================] - 23s 274ms/step - loss: 0.0586 - accuracy: 0.9817 - val_loss: 0.4216 - val_accuracy: 0.9189\n",
      "Epoch 71/200\n",
      "85/85 [==============================] - ETA: 0s - loss: 0.0453 - accuracy: 0.9848\n",
      "Epoch 00071: val_accuracy did not improve from 0.92493\n",
      "85/85 [==============================] - 23s 271ms/step - loss: 0.0453 - accuracy: 0.9848 - val_loss: 0.4152 - val_accuracy: 0.9161\n",
      "Epoch 72/200\n",
      "85/85 [==============================] - ETA: 0s - loss: 0.0555 - accuracy: 0.9840\n",
      "Epoch 00072: val_accuracy did not improve from 0.92493\n",
      "85/85 [==============================] - 23s 272ms/step - loss: 0.0555 - accuracy: 0.9840 - val_loss: 0.4301 - val_accuracy: 0.9170\n",
      "Epoch 73/200\n",
      "85/85 [==============================] - ETA: 0s - loss: 0.0614 - accuracy: 0.9809\n",
      "Epoch 00073: val_accuracy did not improve from 0.92493\n",
      "85/85 [==============================] - 23s 274ms/step - loss: 0.0614 - accuracy: 0.9809 - val_loss: 0.5460 - val_accuracy: 0.9053\n",
      "Epoch 74/200\n",
      "85/85 [==============================] - ETA: 0s - loss: 0.0691 - accuracy: 0.9807\n",
      "Epoch 00074: val_accuracy did not improve from 0.92493\n",
      "85/85 [==============================] - 23s 272ms/step - loss: 0.0691 - accuracy: 0.9807 - val_loss: 0.3995 - val_accuracy: 0.9242\n",
      "Epoch 75/200\n",
      "85/85 [==============================] - ETA: 0s - loss: 0.0587 - accuracy: 0.9828\n",
      "Epoch 00075: val_accuracy did not improve from 0.92493\n",
      "85/85 [==============================] - 23s 275ms/step - loss: 0.0587 - accuracy: 0.9828 - val_loss: 0.5634 - val_accuracy: 0.9022\n",
      "Epoch 76/200\n",
      "85/85 [==============================] - ETA: 0s - loss: 0.0774 - accuracy: 0.9765\n",
      "Epoch 00076: val_accuracy did not improve from 0.92493\n",
      "85/85 [==============================] - 23s 274ms/step - loss: 0.0774 - accuracy: 0.9765 - val_loss: 0.4390 - val_accuracy: 0.9139\n",
      "Epoch 77/200\n",
      "85/85 [==============================] - ETA: 0s - loss: 0.0484 - accuracy: 0.9854\n",
      "Epoch 00077: val_accuracy did not improve from 0.92493\n",
      "85/85 [==============================] - 23s 272ms/step - loss: 0.0484 - accuracy: 0.9854 - val_loss: 0.4568 - val_accuracy: 0.9213\n",
      "Epoch 78/200\n",
      "85/85 [==============================] - ETA: 0s - loss: 0.0570 - accuracy: 0.9840\n",
      "Epoch 00078: val_accuracy did not improve from 0.92493\n",
      "85/85 [==============================] - 23s 274ms/step - loss: 0.0570 - accuracy: 0.9840 - val_loss: 0.4821 - val_accuracy: 0.9099\n",
      "Epoch 79/200\n",
      "85/85 [==============================] - ETA: 0s - loss: 0.0761 - accuracy: 0.9776\n",
      "Epoch 00079: val_accuracy did not improve from 0.92493\n",
      "85/85 [==============================] - 23s 273ms/step - loss: 0.0761 - accuracy: 0.9776 - val_loss: 0.5155 - val_accuracy: 0.9051\n",
      "Epoch 80/200\n",
      "85/85 [==============================] - ETA: 0s - loss: 0.0615 - accuracy: 0.9818\n",
      "Epoch 00080: val_accuracy did not improve from 0.92493\n",
      "85/85 [==============================] - 23s 272ms/step - loss: 0.0615 - accuracy: 0.9818 - val_loss: 0.4369 - val_accuracy: 0.9183\n",
      "Epoch 81/200\n",
      "85/85 [==============================] - ETA: 0s - loss: 0.0384 - accuracy: 0.9884\n",
      "Epoch 00081: val_accuracy improved from 0.92493 to 0.92713, saving model to best_model.hdf5\n",
      "85/85 [==============================] - 24s 281ms/step - loss: 0.0384 - accuracy: 0.9884 - val_loss: 0.3920 - val_accuracy: 0.9271\n",
      "Epoch 82/200\n",
      "85/85 [==============================] - ETA: 0s - loss: 0.0336 - accuracy: 0.9895\n",
      "Epoch 00082: val_accuracy improved from 0.92713 to 0.93080, saving model to best_model.hdf5\n",
      "85/85 [==============================] - 24s 286ms/step - loss: 0.0336 - accuracy: 0.9895 - val_loss: 0.3652 - val_accuracy: 0.9308\n",
      "Epoch 83/200\n",
      "85/85 [==============================] - ETA: 0s - loss: 0.0295 - accuracy: 0.9913\n",
      "Epoch 00083: val_accuracy did not improve from 0.93080\n",
      "85/85 [==============================] - 23s 275ms/step - loss: 0.0295 - accuracy: 0.9913 - val_loss: 0.4449 - val_accuracy: 0.9174\n",
      "Epoch 84/200\n",
      "85/85 [==============================] - ETA: 0s - loss: 0.0426 - accuracy: 0.9883\n",
      "Epoch 00084: val_accuracy did not improve from 0.93080\n",
      "85/85 [==============================] - 23s 273ms/step - loss: 0.0426 - accuracy: 0.9883 - val_loss: 0.6589 - val_accuracy: 0.8935\n",
      "Epoch 85/200\n",
      "85/85 [==============================] - ETA: 0s - loss: 0.0884 - accuracy: 0.9753\n",
      "Epoch 00085: val_accuracy did not improve from 0.93080\n",
      "85/85 [==============================] - 23s 273ms/step - loss: 0.0884 - accuracy: 0.9753 - val_loss: 0.4468 - val_accuracy: 0.9178\n",
      "Epoch 86/200\n",
      "85/85 [==============================] - ETA: 0s - loss: 0.0507 - accuracy: 0.9859\n",
      "Epoch 00086: val_accuracy did not improve from 0.93080\n",
      "85/85 [==============================] - 23s 275ms/step - loss: 0.0507 - accuracy: 0.9859 - val_loss: 0.4187 - val_accuracy: 0.9246\n",
      "Epoch 87/200\n",
      "85/85 [==============================] - ETA: 0s - loss: 0.0805 - accuracy: 0.9782\n",
      "Epoch 00087: val_accuracy did not improve from 0.93080\n",
      "85/85 [==============================] - 23s 273ms/step - loss: 0.0805 - accuracy: 0.9782 - val_loss: 0.4159 - val_accuracy: 0.9183\n",
      "Epoch 88/200\n",
      "85/85 [==============================] - ETA: 0s - loss: 0.0659 - accuracy: 0.9802\n",
      "Epoch 00088: val_accuracy did not improve from 0.93080\n",
      "85/85 [==============================] - 23s 275ms/step - loss: 0.0659 - accuracy: 0.9802 - val_loss: 0.4536 - val_accuracy: 0.9183\n",
      "Epoch 89/200\n",
      "85/85 [==============================] - ETA: 0s - loss: 0.0636 - accuracy: 0.9815\n",
      "Epoch 00089: val_accuracy did not improve from 0.93080\n",
      "85/85 [==============================] - 23s 273ms/step - loss: 0.0636 - accuracy: 0.9815 - val_loss: 0.4130 - val_accuracy: 0.9236\n",
      "Epoch 90/200\n",
      "85/85 [==============================] - ETA: 0s - loss: 0.0450 - accuracy: 0.9870\n",
      "Epoch 00090: val_accuracy did not improve from 0.93080\n",
      "85/85 [==============================] - 23s 273ms/step - loss: 0.0450 - accuracy: 0.9870 - val_loss: 0.4090 - val_accuracy: 0.9262\n",
      "Epoch 91/200\n",
      "85/85 [==============================] - ETA: 0s - loss: 0.0292 - accuracy: 0.9909\n",
      "Epoch 00091: val_accuracy did not improve from 0.93080\n",
      "85/85 [==============================] - 23s 273ms/step - loss: 0.0292 - accuracy: 0.9909 - val_loss: 0.3968 - val_accuracy: 0.9277\n",
      "Epoch 92/200\n",
      "85/85 [==============================] - ETA: 0s - loss: 0.0340 - accuracy: 0.9898\n",
      "Epoch 00092: val_accuracy did not improve from 0.93080\n",
      "85/85 [==============================] - 23s 275ms/step - loss: 0.0340 - accuracy: 0.9898 - val_loss: 0.4199 - val_accuracy: 0.9273\n",
      "Epoch 93/200\n",
      "85/85 [==============================] - ETA: 0s - loss: 0.0848 - accuracy: 0.9763\n",
      "Epoch 00093: val_accuracy did not improve from 0.93080\n",
      "85/85 [==============================] - 23s 271ms/step - loss: 0.0848 - accuracy: 0.9763 - val_loss: 0.4043 - val_accuracy: 0.9161\n",
      "Epoch 94/200\n",
      "85/85 [==============================] - ETA: 0s - loss: 0.0394 - accuracy: 0.9881\n",
      "Epoch 00094: val_accuracy did not improve from 0.93080\n",
      "85/85 [==============================] - 23s 273ms/step - loss: 0.0394 - accuracy: 0.9881 - val_loss: 0.3896 - val_accuracy: 0.9264\n",
      "Epoch 95/200\n",
      "85/85 [==============================] - ETA: 0s - loss: 0.0309 - accuracy: 0.9912\n",
      "Epoch 00095: val_accuracy improved from 0.93080 to 0.93245, saving model to best_model.hdf5\n",
      "85/85 [==============================] - 24s 281ms/step - loss: 0.0309 - accuracy: 0.9912 - val_loss: 0.3911 - val_accuracy: 0.9325\n",
      "Epoch 96/200\n",
      "85/85 [==============================] - ETA: 0s - loss: 0.0243 - accuracy: 0.9927\n",
      "Epoch 00096: val_accuracy did not improve from 0.93245\n",
      "85/85 [==============================] - 23s 271ms/step - loss: 0.0243 - accuracy: 0.9927 - val_loss: 0.3892 - val_accuracy: 0.9279\n",
      "Epoch 97/200\n",
      "85/85 [==============================] - ETA: 0s - loss: 0.0440 - accuracy: 0.9866\n",
      "Epoch 00097: val_accuracy did not improve from 0.93245\n",
      "85/85 [==============================] - 23s 273ms/step - loss: 0.0440 - accuracy: 0.9866 - val_loss: 0.5395 - val_accuracy: 0.9093\n",
      "Epoch 98/200\n",
      "85/85 [==============================] - ETA: 0s - loss: 0.0404 - accuracy: 0.9876\n",
      "Epoch 00098: val_accuracy did not improve from 0.93245\n",
      "85/85 [==============================] - 23s 272ms/step - loss: 0.0404 - accuracy: 0.9876 - val_loss: 0.4593 - val_accuracy: 0.9146\n",
      "Epoch 99/200\n",
      "85/85 [==============================] - ETA: 0s - loss: 0.0432 - accuracy: 0.9866\n",
      "Epoch 00099: val_accuracy did not improve from 0.93245\n",
      "85/85 [==============================] - 23s 271ms/step - loss: 0.0432 - accuracy: 0.9866 - val_loss: 0.4609 - val_accuracy: 0.9216\n",
      "Epoch 100/200\n",
      "85/85 [==============================] - ETA: 0s - loss: 0.0490 - accuracy: 0.9858\n",
      "Epoch 00100: val_accuracy did not improve from 0.93245\n",
      "85/85 [==============================] - 23s 273ms/step - loss: 0.0490 - accuracy: 0.9858 - val_loss: 0.4587 - val_accuracy: 0.9249\n",
      "Epoch 101/200\n",
      "85/85 [==============================] - ETA: 0s - loss: 0.0337 - accuracy: 0.9901\n",
      "Epoch 00101: val_accuracy did not improve from 0.93245\n",
      "85/85 [==============================] - 23s 275ms/step - loss: 0.0337 - accuracy: 0.9901 - val_loss: 0.4570 - val_accuracy: 0.9251\n",
      "Epoch 102/200\n",
      "85/85 [==============================] - ETA: 0s - loss: 0.0298 - accuracy: 0.9909\n",
      "Epoch 00102: val_accuracy did not improve from 0.93245\n",
      "85/85 [==============================] - 23s 272ms/step - loss: 0.0298 - accuracy: 0.9909 - val_loss: 0.4578 - val_accuracy: 0.9251\n",
      "Epoch 103/200\n",
      "85/85 [==============================] - ETA: 0s - loss: 0.0303 - accuracy: 0.9904\n",
      "Epoch 00103: val_accuracy did not improve from 0.93245\n",
      "85/85 [==============================] - 23s 272ms/step - loss: 0.0303 - accuracy: 0.9904 - val_loss: 0.4477 - val_accuracy: 0.9233\n",
      "Epoch 104/200\n",
      "85/85 [==============================] - ETA: 0s - loss: 0.0249 - accuracy: 0.9928\n",
      "Epoch 00104: val_accuracy did not improve from 0.93245\n",
      "85/85 [==============================] - 23s 271ms/step - loss: 0.0249 - accuracy: 0.9928 - val_loss: 0.4017 - val_accuracy: 0.9286\n",
      "Epoch 105/200\n",
      "85/85 [==============================] - ETA: 0s - loss: 0.0295 - accuracy: 0.9918\n",
      "Epoch 00105: val_accuracy did not improve from 0.93245\n",
      "85/85 [==============================] - 23s 271ms/step - loss: 0.0295 - accuracy: 0.9918 - val_loss: 0.4713 - val_accuracy: 0.9242\n",
      "Epoch 106/200\n",
      "85/85 [==============================] - ETA: 0s - loss: 0.0535 - accuracy: 0.9838\n",
      "Epoch 00106: val_accuracy did not improve from 0.93245\n",
      "85/85 [==============================] - 23s 271ms/step - loss: 0.0535 - accuracy: 0.9838 - val_loss: 0.4458 - val_accuracy: 0.9209\n",
      "Epoch 107/200\n",
      "85/85 [==============================] - ETA: 0s - loss: 0.1320 - accuracy: 0.9648\n",
      "Epoch 00107: val_accuracy did not improve from 0.93245\n",
      "85/85 [==============================] - 23s 272ms/step - loss: 0.1320 - accuracy: 0.9648 - val_loss: 0.4419 - val_accuracy: 0.9073\n",
      "Epoch 108/200\n",
      "85/85 [==============================] - ETA: 0s - loss: 0.0449 - accuracy: 0.9861\n",
      "Epoch 00108: val_accuracy did not improve from 0.93245\n",
      "85/85 [==============================] - 23s 274ms/step - loss: 0.0449 - accuracy: 0.9861 - val_loss: 0.4118 - val_accuracy: 0.9284\n",
      "Epoch 109/200\n",
      "85/85 [==============================] - ETA: 0s - loss: 0.0243 - accuracy: 0.9924\n",
      "Epoch 00109: val_accuracy did not improve from 0.93245\n",
      "85/85 [==============================] - 23s 274ms/step - loss: 0.0243 - accuracy: 0.9924 - val_loss: 0.3965 - val_accuracy: 0.9257\n",
      "Epoch 110/200\n",
      "85/85 [==============================] - ETA: 0s - loss: 0.0304 - accuracy: 0.9896\n",
      "Epoch 00110: val_accuracy did not improve from 0.93245\n",
      "85/85 [==============================] - 23s 271ms/step - loss: 0.0304 - accuracy: 0.9896 - val_loss: 0.4162 - val_accuracy: 0.9269\n",
      "Epoch 111/200\n",
      "85/85 [==============================] - ETA: 0s - loss: 0.0216 - accuracy: 0.9931\n",
      "Epoch 00111: val_accuracy did not improve from 0.93245\n",
      "85/85 [==============================] - 23s 272ms/step - loss: 0.0216 - accuracy: 0.9931 - val_loss: 0.4286 - val_accuracy: 0.9258\n",
      "Epoch 112/200\n",
      "85/85 [==============================] - ETA: 0s - loss: 0.0262 - accuracy: 0.9918\n",
      "Epoch 00112: val_accuracy did not improve from 0.93245\n",
      "85/85 [==============================] - 23s 272ms/step - loss: 0.0262 - accuracy: 0.9918 - val_loss: 0.4558 - val_accuracy: 0.9231\n",
      "Epoch 113/200\n",
      "85/85 [==============================] - ETA: 0s - loss: 0.0224 - accuracy: 0.9933\n",
      "Epoch 00113: val_accuracy improved from 0.93245 to 0.93447, saving model to best_model.hdf5\n",
      "85/85 [==============================] - 24s 281ms/step - loss: 0.0224 - accuracy: 0.9933 - val_loss: 0.3868 - val_accuracy: 0.9345\n",
      "Epoch 114/200\n",
      "85/85 [==============================] - ETA: 0s - loss: 0.0242 - accuracy: 0.9923\n",
      "Epoch 00114: val_accuracy did not improve from 0.93447\n",
      "85/85 [==============================] - 23s 274ms/step - loss: 0.0242 - accuracy: 0.9923 - val_loss: 0.4660 - val_accuracy: 0.9242\n",
      "Epoch 115/200\n",
      "85/85 [==============================] - ETA: 0s - loss: 0.0412 - accuracy: 0.9883\n",
      "Epoch 00115: val_accuracy did not improve from 0.93447\n",
      "85/85 [==============================] - 23s 272ms/step - loss: 0.0412 - accuracy: 0.9883 - val_loss: 0.4321 - val_accuracy: 0.9235\n",
      "Epoch 116/200\n",
      "85/85 [==============================] - ETA: 0s - loss: 0.0350 - accuracy: 0.9893\n",
      "Epoch 00116: val_accuracy did not improve from 0.93447\n",
      "85/85 [==============================] - 23s 273ms/step - loss: 0.0350 - accuracy: 0.9893 - val_loss: 0.5348 - val_accuracy: 0.9159\n",
      "Epoch 117/200\n",
      "85/85 [==============================] - ETA: 0s - loss: 0.0365 - accuracy: 0.9889\n",
      "Epoch 00117: val_accuracy did not improve from 0.93447\n",
      "85/85 [==============================] - 23s 273ms/step - loss: 0.0365 - accuracy: 0.9889 - val_loss: 0.4641 - val_accuracy: 0.9258\n",
      "Epoch 118/200\n",
      "85/85 [==============================] - ETA: 0s - loss: 0.0330 - accuracy: 0.9900\n",
      "Epoch 00118: val_accuracy did not improve from 0.93447\n",
      "85/85 [==============================] - 23s 274ms/step - loss: 0.0330 - accuracy: 0.9900 - val_loss: 0.5007 - val_accuracy: 0.9225\n",
      "Epoch 119/200\n",
      "85/85 [==============================] - ETA: 0s - loss: 0.0266 - accuracy: 0.9923\n",
      "Epoch 00119: val_accuracy did not improve from 0.93447\n",
      "85/85 [==============================] - 23s 272ms/step - loss: 0.0266 - accuracy: 0.9923 - val_loss: 0.4276 - val_accuracy: 0.9284\n",
      "Epoch 120/200\n",
      "85/85 [==============================] - ETA: 0s - loss: 0.0404 - accuracy: 0.9883\n",
      "Epoch 00120: val_accuracy did not improve from 0.93447\n",
      "85/85 [==============================] - 23s 270ms/step - loss: 0.0404 - accuracy: 0.9883 - val_loss: 0.4512 - val_accuracy: 0.9222\n",
      "Epoch 121/200\n",
      "85/85 [==============================] - ETA: 0s - loss: 0.0451 - accuracy: 0.9862\n",
      "Epoch 00121: val_accuracy did not improve from 0.93447\n",
      "85/85 [==============================] - 23s 272ms/step - loss: 0.0451 - accuracy: 0.9862 - val_loss: 0.5199 - val_accuracy: 0.9165\n",
      "Epoch 122/200\n",
      "85/85 [==============================] - ETA: 0s - loss: 0.0537 - accuracy: 0.9840\n",
      "Epoch 00122: val_accuracy did not improve from 0.93447\n",
      "85/85 [==============================] - 23s 273ms/step - loss: 0.0537 - accuracy: 0.9840 - val_loss: 0.5324 - val_accuracy: 0.9161\n",
      "Epoch 123/200\n",
      "85/85 [==============================] - ETA: 0s - loss: 0.0382 - accuracy: 0.9886\n",
      "Epoch 00123: val_accuracy did not improve from 0.93447\n",
      "85/85 [==============================] - 23s 271ms/step - loss: 0.0382 - accuracy: 0.9886 - val_loss: 0.4557 - val_accuracy: 0.9273\n",
      "Epoch 124/200\n",
      "85/85 [==============================] - ETA: 0s - loss: 0.0366 - accuracy: 0.9896\n",
      "Epoch 00124: val_accuracy did not improve from 0.93447\n",
      "85/85 [==============================] - 23s 271ms/step - loss: 0.0366 - accuracy: 0.9896 - val_loss: 0.4464 - val_accuracy: 0.9255\n",
      "Epoch 125/200\n",
      "85/85 [==============================] - ETA: 0s - loss: 0.0540 - accuracy: 0.9855\n",
      "Epoch 00125: val_accuracy did not improve from 0.93447\n",
      "85/85 [==============================] - 23s 273ms/step - loss: 0.0540 - accuracy: 0.9855 - val_loss: 0.5530 - val_accuracy: 0.9119\n",
      "Epoch 126/200\n",
      "85/85 [==============================] - ETA: 0s - loss: 0.0428 - accuracy: 0.9881\n",
      "Epoch 00126: val_accuracy did not improve from 0.93447\n",
      "85/85 [==============================] - 23s 272ms/step - loss: 0.0428 - accuracy: 0.9881 - val_loss: 0.4316 - val_accuracy: 0.9295\n",
      "Epoch 127/200\n",
      "85/85 [==============================] - ETA: 0s - loss: 0.0481 - accuracy: 0.9860\n",
      "Epoch 00127: val_accuracy did not improve from 0.93447\n",
      "85/85 [==============================] - 23s 273ms/step - loss: 0.0481 - accuracy: 0.9860 - val_loss: 0.5012 - val_accuracy: 0.9187\n",
      "Epoch 128/200\n",
      "85/85 [==============================] - ETA: 0s - loss: 0.0563 - accuracy: 0.9840\n",
      "Epoch 00128: val_accuracy did not improve from 0.93447\n",
      "85/85 [==============================] - 23s 270ms/step - loss: 0.0563 - accuracy: 0.9840 - val_loss: 0.4839 - val_accuracy: 0.9191\n",
      "Epoch 129/200\n",
      "85/85 [==============================] - ETA: 0s - loss: 0.0445 - accuracy: 0.9877\n",
      "Epoch 00129: val_accuracy did not improve from 0.93447\n",
      "85/85 [==============================] - 23s 275ms/step - loss: 0.0445 - accuracy: 0.9877 - val_loss: 0.4616 - val_accuracy: 0.9249\n",
      "Epoch 130/200\n",
      "85/85 [==============================] - ETA: 0s - loss: 0.0239 - accuracy: 0.9926\n",
      "Epoch 00130: val_accuracy did not improve from 0.93447\n",
      "85/85 [==============================] - 23s 273ms/step - loss: 0.0239 - accuracy: 0.9926 - val_loss: 0.4242 - val_accuracy: 0.9304\n",
      "Epoch 131/200\n",
      "85/85 [==============================] - ETA: 0s - loss: 0.0271 - accuracy: 0.9922\n",
      "Epoch 00131: val_accuracy did not improve from 0.93447\n",
      "85/85 [==============================] - 23s 271ms/step - loss: 0.0271 - accuracy: 0.9922 - val_loss: 0.5446 - val_accuracy: 0.9198\n",
      "Epoch 132/200\n",
      "85/85 [==============================] - ETA: 0s - loss: 0.0438 - accuracy: 0.9884\n",
      "Epoch 00132: val_accuracy did not improve from 0.93447\n",
      "85/85 [==============================] - 23s 275ms/step - loss: 0.0438 - accuracy: 0.9884 - val_loss: 0.4464 - val_accuracy: 0.9244\n",
      "Epoch 133/200\n",
      "85/85 [==============================] - ETA: 0s - loss: 0.0257 - accuracy: 0.9910\n",
      "Epoch 00133: val_accuracy did not improve from 0.93447\n",
      "85/85 [==============================] - 23s 272ms/step - loss: 0.0257 - accuracy: 0.9910 - val_loss: 0.4185 - val_accuracy: 0.9279\n",
      "Epoch 134/200\n",
      "85/85 [==============================] - ETA: 0s - loss: 0.0213 - accuracy: 0.9929\n",
      "Epoch 00134: val_accuracy did not improve from 0.93447\n",
      "85/85 [==============================] - 23s 270ms/step - loss: 0.0213 - accuracy: 0.9929 - val_loss: 0.4673 - val_accuracy: 0.9280\n",
      "Epoch 135/200\n",
      "85/85 [==============================] - ETA: 0s - loss: 0.0214 - accuracy: 0.9939\n",
      "Epoch 00135: val_accuracy did not improve from 0.93447\n",
      "85/85 [==============================] - 23s 273ms/step - loss: 0.0214 - accuracy: 0.9939 - val_loss: 0.4772 - val_accuracy: 0.9323\n",
      "Epoch 136/200\n",
      "85/85 [==============================] - ETA: 0s - loss: 0.0334 - accuracy: 0.9910\n",
      "Epoch 00136: val_accuracy did not improve from 0.93447\n",
      "85/85 [==============================] - 23s 272ms/step - loss: 0.0334 - accuracy: 0.9910 - val_loss: 0.4986 - val_accuracy: 0.9203\n",
      "Epoch 137/200\n",
      "85/85 [==============================] - ETA: 0s - loss: 0.0253 - accuracy: 0.9922\n",
      "Epoch 00137: val_accuracy did not improve from 0.93447\n",
      "85/85 [==============================] - 23s 273ms/step - loss: 0.0253 - accuracy: 0.9922 - val_loss: 0.4754 - val_accuracy: 0.9249\n",
      "Epoch 138/200\n",
      "85/85 [==============================] - ETA: 0s - loss: 0.0202 - accuracy: 0.9944\n",
      "Epoch 00138: val_accuracy did not improve from 0.93447\n",
      "85/85 [==============================] - 23s 273ms/step - loss: 0.0202 - accuracy: 0.9944 - val_loss: 0.4346 - val_accuracy: 0.9308\n",
      "Epoch 139/200\n",
      "85/85 [==============================] - ETA: 0s - loss: 0.0203 - accuracy: 0.9942\n",
      "Epoch 00139: val_accuracy did not improve from 0.93447\n",
      "85/85 [==============================] - 23s 273ms/step - loss: 0.0203 - accuracy: 0.9942 - val_loss: 0.5173 - val_accuracy: 0.9236\n",
      "Epoch 140/200\n",
      "85/85 [==============================] - ETA: 0s - loss: 0.0335 - accuracy: 0.9897\n",
      "Epoch 00140: val_accuracy did not improve from 0.93447\n",
      "85/85 [==============================] - 23s 270ms/step - loss: 0.0335 - accuracy: 0.9897 - val_loss: 0.5035 - val_accuracy: 0.9211\n",
      "Epoch 141/200\n",
      "85/85 [==============================] - ETA: 0s - loss: 0.0290 - accuracy: 0.9910\n",
      "Epoch 00141: val_accuracy did not improve from 0.93447\n",
      "85/85 [==============================] - 23s 273ms/step - loss: 0.0290 - accuracy: 0.9910 - val_loss: 0.5361 - val_accuracy: 0.9244\n",
      "Epoch 142/200\n",
      "85/85 [==============================] - ETA: 0s - loss: 0.0219 - accuracy: 0.9935\n",
      "Epoch 00142: val_accuracy did not improve from 0.93447\n",
      "85/85 [==============================] - 23s 272ms/step - loss: 0.0219 - accuracy: 0.9935 - val_loss: 0.5019 - val_accuracy: 0.9240\n",
      "Epoch 143/200\n",
      "85/85 [==============================] - ETA: 0s - loss: 0.0218 - accuracy: 0.9941\n",
      "Epoch 00143: val_accuracy did not improve from 0.93447\n",
      "85/85 [==============================] - 23s 273ms/step - loss: 0.0218 - accuracy: 0.9941 - val_loss: 0.5122 - val_accuracy: 0.9225\n",
      "Epoch 144/200\n",
      "85/85 [==============================] - ETA: 0s - loss: 0.0241 - accuracy: 0.9928\n",
      "Epoch 00144: val_accuracy did not improve from 0.93447\n",
      "85/85 [==============================] - 23s 275ms/step - loss: 0.0241 - accuracy: 0.9928 - val_loss: 0.5407 - val_accuracy: 0.9192\n",
      "Epoch 145/200\n",
      "85/85 [==============================] - ETA: 0s - loss: 0.0312 - accuracy: 0.9911\n",
      "Epoch 00145: val_accuracy did not improve from 0.93447\n",
      "85/85 [==============================] - 23s 272ms/step - loss: 0.0312 - accuracy: 0.9911 - val_loss: 0.4788 - val_accuracy: 0.9268\n",
      "Epoch 146/200\n",
      "85/85 [==============================] - ETA: 0s - loss: 0.0291 - accuracy: 0.9922\n",
      "Epoch 00146: val_accuracy did not improve from 0.93447\n",
      "85/85 [==============================] - 23s 273ms/step - loss: 0.0291 - accuracy: 0.9922 - val_loss: 0.5321 - val_accuracy: 0.9227\n",
      "Epoch 147/200\n",
      "85/85 [==============================] - ETA: 0s - loss: 0.0375 - accuracy: 0.9894\n",
      "Epoch 00147: val_accuracy did not improve from 0.93447\n",
      "85/85 [==============================] - 23s 273ms/step - loss: 0.0375 - accuracy: 0.9894 - val_loss: 0.4832 - val_accuracy: 0.9273\n",
      "Epoch 148/200\n",
      "85/85 [==============================] - ETA: 0s - loss: 0.0256 - accuracy: 0.9920\n",
      "Epoch 00148: val_accuracy did not improve from 0.93447\n",
      "85/85 [==============================] - 23s 271ms/step - loss: 0.0256 - accuracy: 0.9920 - val_loss: 0.4617 - val_accuracy: 0.9290\n",
      "Epoch 149/200\n",
      "85/85 [==============================] - ETA: 0s - loss: 0.0338 - accuracy: 0.9907\n",
      "Epoch 00149: val_accuracy did not improve from 0.93447\n",
      "85/85 [==============================] - 23s 273ms/step - loss: 0.0338 - accuracy: 0.9907 - val_loss: 0.4952 - val_accuracy: 0.9279\n",
      "Epoch 150/200\n",
      "85/85 [==============================] - ETA: 0s - loss: 0.0414 - accuracy: 0.9884\n",
      "Epoch 00150: val_accuracy did not improve from 0.93447\n",
      "85/85 [==============================] - 23s 274ms/step - loss: 0.0414 - accuracy: 0.9884 - val_loss: 0.7145 - val_accuracy: 0.9036\n",
      "Epoch 151/200\n",
      "85/85 [==============================] - ETA: 0s - loss: 0.0458 - accuracy: 0.9877\n",
      "Epoch 00151: val_accuracy did not improve from 0.93447\n",
      "85/85 [==============================] - 23s 272ms/step - loss: 0.0458 - accuracy: 0.9877 - val_loss: 0.4844 - val_accuracy: 0.9211\n",
      "Epoch 152/200\n",
      "85/85 [==============================] - ETA: 0s - loss: 0.0284 - accuracy: 0.9915\n",
      "Epoch 00152: val_accuracy did not improve from 0.93447\n",
      "85/85 [==============================] - 23s 273ms/step - loss: 0.0284 - accuracy: 0.9915 - val_loss: 0.4398 - val_accuracy: 0.9343\n",
      "Epoch 153/200\n",
      "85/85 [==============================] - ETA: 0s - loss: 0.0397 - accuracy: 0.9896\n",
      "Epoch 00153: val_accuracy did not improve from 0.93447\n",
      "85/85 [==============================] - 23s 273ms/step - loss: 0.0397 - accuracy: 0.9896 - val_loss: 0.6966 - val_accuracy: 0.8954\n",
      "Epoch 154/200\n",
      "85/85 [==============================] - ETA: 0s - loss: 0.0466 - accuracy: 0.9866\n",
      "Epoch 00154: val_accuracy did not improve from 0.93447\n",
      "85/85 [==============================] - 23s 269ms/step - loss: 0.0466 - accuracy: 0.9866 - val_loss: 0.4473 - val_accuracy: 0.9328\n",
      "Epoch 155/200\n",
      "85/85 [==============================] - ETA: 0s - loss: 0.0257 - accuracy: 0.9924\n",
      "Epoch 00155: val_accuracy did not improve from 0.93447\n",
      "85/85 [==============================] - 23s 274ms/step - loss: 0.0257 - accuracy: 0.9924 - val_loss: 0.4660 - val_accuracy: 0.9293\n",
      "Epoch 156/200\n",
      "85/85 [==============================] - ETA: 0s - loss: 0.0167 - accuracy: 0.9951\n",
      "Epoch 00156: val_accuracy did not improve from 0.93447\n",
      "85/85 [==============================] - 23s 274ms/step - loss: 0.0167 - accuracy: 0.9951 - val_loss: 0.4796 - val_accuracy: 0.9253\n",
      "Epoch 157/200\n",
      "85/85 [==============================] - ETA: 0s - loss: 0.0191 - accuracy: 0.9942\n",
      "Epoch 00157: val_accuracy did not improve from 0.93447\n",
      "85/85 [==============================] - 23s 272ms/step - loss: 0.0191 - accuracy: 0.9942 - val_loss: 0.5431 - val_accuracy: 0.9187\n",
      "Epoch 158/200\n",
      "85/85 [==============================] - ETA: 0s - loss: 0.0256 - accuracy: 0.9930\n",
      "Epoch 00158: val_accuracy did not improve from 0.93447\n",
      "85/85 [==============================] - 23s 274ms/step - loss: 0.0256 - accuracy: 0.9930 - val_loss: 0.5007 - val_accuracy: 0.9251\n",
      "Epoch 159/200\n",
      "85/85 [==============================] - ETA: 0s - loss: 0.0262 - accuracy: 0.9929\n",
      "Epoch 00159: val_accuracy did not improve from 0.93447\n",
      "85/85 [==============================] - 23s 273ms/step - loss: 0.0262 - accuracy: 0.9929 - val_loss: 0.5042 - val_accuracy: 0.9246\n",
      "Epoch 160/200\n",
      "85/85 [==============================] - ETA: 0s - loss: 0.0210 - accuracy: 0.9939\n",
      "Epoch 00160: val_accuracy did not improve from 0.93447\n",
      "85/85 [==============================] - 23s 271ms/step - loss: 0.0210 - accuracy: 0.9939 - val_loss: 0.4680 - val_accuracy: 0.9277\n",
      "Epoch 161/200\n",
      "85/85 [==============================] - ETA: 0s - loss: 0.0220 - accuracy: 0.9935\n",
      "Epoch 00161: val_accuracy did not improve from 0.93447\n",
      "85/85 [==============================] - 23s 273ms/step - loss: 0.0220 - accuracy: 0.9935 - val_loss: 0.4874 - val_accuracy: 0.9279\n",
      "Epoch 162/200\n",
      "85/85 [==============================] - ETA: 0s - loss: 0.0217 - accuracy: 0.9937\n",
      "Epoch 00162: val_accuracy did not improve from 0.93447\n",
      "85/85 [==============================] - 23s 274ms/step - loss: 0.0217 - accuracy: 0.9937 - val_loss: 0.6655 - val_accuracy: 0.9075\n",
      "Epoch 163/200\n",
      "85/85 [==============================] - ETA: 0s - loss: 0.0307 - accuracy: 0.9919\n",
      "Epoch 00163: val_accuracy did not improve from 0.93447\n",
      "85/85 [==============================] - 23s 270ms/step - loss: 0.0307 - accuracy: 0.9919 - val_loss: 0.5243 - val_accuracy: 0.9229\n",
      "Epoch 164/200\n",
      "85/85 [==============================] - ETA: 0s - loss: 0.0199 - accuracy: 0.9939\n",
      "Epoch 00164: val_accuracy did not improve from 0.93447\n",
      "85/85 [==============================] - 23s 273ms/step - loss: 0.0199 - accuracy: 0.9939 - val_loss: 0.5001 - val_accuracy: 0.9290\n",
      "Epoch 165/200\n",
      "85/85 [==============================] - ETA: 0s - loss: 0.0146 - accuracy: 0.9958\n",
      "Epoch 00165: val_accuracy did not improve from 0.93447\n",
      "85/85 [==============================] - 23s 273ms/step - loss: 0.0146 - accuracy: 0.9958 - val_loss: 0.4703 - val_accuracy: 0.9268\n",
      "Epoch 166/200\n",
      "85/85 [==============================] - ETA: 0s - loss: 0.0186 - accuracy: 0.9943\n",
      "Epoch 00166: val_accuracy did not improve from 0.93447\n",
      "85/85 [==============================] - 23s 270ms/step - loss: 0.0186 - accuracy: 0.9943 - val_loss: 0.4598 - val_accuracy: 0.9297\n",
      "Epoch 167/200\n",
      "85/85 [==============================] - ETA: 0s - loss: 0.0118 - accuracy: 0.9962\n",
      "Epoch 00167: val_accuracy did not improve from 0.93447\n",
      "85/85 [==============================] - 23s 274ms/step - loss: 0.0118 - accuracy: 0.9962 - val_loss: 0.4452 - val_accuracy: 0.9319\n",
      "Epoch 168/200\n",
      "85/85 [==============================] - ETA: 0s - loss: 0.0158 - accuracy: 0.9952\n",
      "Epoch 00168: val_accuracy did not improve from 0.93447\n",
      "85/85 [==============================] - 23s 274ms/step - loss: 0.0158 - accuracy: 0.9952 - val_loss: 0.6690 - val_accuracy: 0.9181\n",
      "Epoch 169/200\n",
      "85/85 [==============================] - ETA: 0s - loss: 0.0344 - accuracy: 0.9909\n",
      "Epoch 00169: val_accuracy did not improve from 0.93447\n",
      "85/85 [==============================] - 23s 270ms/step - loss: 0.0344 - accuracy: 0.9909 - val_loss: 0.7337 - val_accuracy: 0.9047\n",
      "Epoch 170/200\n",
      "85/85 [==============================] - ETA: 0s - loss: 0.0490 - accuracy: 0.9883\n",
      "Epoch 00170: val_accuracy did not improve from 0.93447\n",
      "85/85 [==============================] - 23s 273ms/step - loss: 0.0490 - accuracy: 0.9883 - val_loss: 0.5473 - val_accuracy: 0.9124\n",
      "Epoch 171/200\n",
      "85/85 [==============================] - ETA: 0s - loss: 0.0270 - accuracy: 0.9923\n",
      "Epoch 00171: val_accuracy did not improve from 0.93447\n",
      "85/85 [==============================] - 23s 274ms/step - loss: 0.0270 - accuracy: 0.9923 - val_loss: 0.5135 - val_accuracy: 0.9249\n",
      "Epoch 172/200\n",
      "85/85 [==============================] - ETA: 0s - loss: 0.0386 - accuracy: 0.9889\n",
      "Epoch 00172: val_accuracy did not improve from 0.93447\n",
      "85/85 [==============================] - 23s 270ms/step - loss: 0.0386 - accuracy: 0.9889 - val_loss: 0.5735 - val_accuracy: 0.9165\n",
      "Epoch 173/200\n",
      "85/85 [==============================] - ETA: 0s - loss: 0.0176 - accuracy: 0.9941\n",
      "Epoch 00173: val_accuracy did not improve from 0.93447\n",
      "85/85 [==============================] - 23s 275ms/step - loss: 0.0176 - accuracy: 0.9941 - val_loss: 0.4960 - val_accuracy: 0.9258\n",
      "Epoch 174/200\n",
      "85/85 [==============================] - ETA: 0s - loss: 0.0176 - accuracy: 0.9943\n",
      "Epoch 00174: val_accuracy did not improve from 0.93447\n",
      "85/85 [==============================] - 23s 275ms/step - loss: 0.0176 - accuracy: 0.9943 - val_loss: 0.5166 - val_accuracy: 0.9249\n",
      "Epoch 175/200\n",
      "85/85 [==============================] - ETA: 0s - loss: 0.0442 - accuracy: 0.9882\n",
      "Epoch 00175: val_accuracy did not improve from 0.93447\n",
      "85/85 [==============================] - 23s 271ms/step - loss: 0.0442 - accuracy: 0.9882 - val_loss: 0.5736 - val_accuracy: 0.9169\n",
      "Epoch 176/200\n",
      "85/85 [==============================] - ETA: 0s - loss: 0.0403 - accuracy: 0.9882\n",
      "Epoch 00176: val_accuracy did not improve from 0.93447\n",
      "85/85 [==============================] - 23s 273ms/step - loss: 0.0403 - accuracy: 0.9882 - val_loss: 0.5241 - val_accuracy: 0.9229\n",
      "Epoch 177/200\n",
      "85/85 [==============================] - ETA: 0s - loss: 0.0486 - accuracy: 0.9864\n",
      "Epoch 00177: val_accuracy did not improve from 0.93447\n",
      "85/85 [==============================] - 23s 274ms/step - loss: 0.0486 - accuracy: 0.9864 - val_loss: 0.4645 - val_accuracy: 0.9236\n",
      "Epoch 178/200\n",
      "85/85 [==============================] - ETA: 0s - loss: 0.0248 - accuracy: 0.9930\n",
      "Epoch 00178: val_accuracy did not improve from 0.93447\n",
      "85/85 [==============================] - 23s 272ms/step - loss: 0.0248 - accuracy: 0.9930 - val_loss: 0.5342 - val_accuracy: 0.9238\n",
      "Epoch 179/200\n",
      "85/85 [==============================] - ETA: 0s - loss: 0.0198 - accuracy: 0.9939\n",
      "Epoch 00179: val_accuracy did not improve from 0.93447\n",
      "85/85 [==============================] - 23s 272ms/step - loss: 0.0198 - accuracy: 0.9939 - val_loss: 0.4443 - val_accuracy: 0.9269\n",
      "Epoch 180/200\n",
      "85/85 [==============================] - ETA: 0s - loss: 0.0241 - accuracy: 0.9928\n",
      "Epoch 00180: val_accuracy did not improve from 0.93447\n",
      "85/85 [==============================] - 23s 271ms/step - loss: 0.0241 - accuracy: 0.9928 - val_loss: 0.5175 - val_accuracy: 0.9249\n",
      "Epoch 181/200\n",
      "85/85 [==============================] - ETA: 0s - loss: 0.0191 - accuracy: 0.9943\n",
      "Epoch 00181: val_accuracy did not improve from 0.93447\n",
      "85/85 [==============================] - 23s 269ms/step - loss: 0.0191 - accuracy: 0.9943 - val_loss: 0.4766 - val_accuracy: 0.9297\n",
      "Epoch 182/200\n",
      "85/85 [==============================] - ETA: 0s - loss: 0.0247 - accuracy: 0.9920\n",
      "Epoch 00182: val_accuracy did not improve from 0.93447\n",
      "85/85 [==============================] - 23s 273ms/step - loss: 0.0247 - accuracy: 0.9920 - val_loss: 0.5139 - val_accuracy: 0.9258\n",
      "Epoch 183/200\n",
      "85/85 [==============================] - ETA: 0s - loss: 0.0182 - accuracy: 0.9946\n",
      "Epoch 00183: val_accuracy did not improve from 0.93447\n",
      "85/85 [==============================] - 23s 275ms/step - loss: 0.0182 - accuracy: 0.9946 - val_loss: 0.4593 - val_accuracy: 0.9323\n",
      "Epoch 184/200\n",
      "85/85 [==============================] - ETA: 0s - loss: 0.0125 - accuracy: 0.9961\n",
      "Epoch 00184: val_accuracy did not improve from 0.93447\n",
      "85/85 [==============================] - 23s 268ms/step - loss: 0.0125 - accuracy: 0.9961 - val_loss: 0.4392 - val_accuracy: 0.9330\n",
      "Epoch 185/200\n",
      "85/85 [==============================] - ETA: 0s - loss: 0.0145 - accuracy: 0.9956\n",
      "Epoch 00185: val_accuracy did not improve from 0.93447\n",
      "85/85 [==============================] - 23s 273ms/step - loss: 0.0145 - accuracy: 0.9956 - val_loss: 0.4728 - val_accuracy: 0.9277\n",
      "Epoch 186/200\n",
      "85/85 [==============================] - ETA: 0s - loss: 0.0115 - accuracy: 0.9962\n",
      "Epoch 00186: val_accuracy did not improve from 0.93447\n",
      "85/85 [==============================] - 23s 275ms/step - loss: 0.0115 - accuracy: 0.9962 - val_loss: 0.5039 - val_accuracy: 0.9269\n",
      "Epoch 187/200\n",
      "85/85 [==============================] - ETA: 0s - loss: 0.0143 - accuracy: 0.9958\n",
      "Epoch 00187: val_accuracy did not improve from 0.93447\n",
      "85/85 [==============================] - 23s 269ms/step - loss: 0.0143 - accuracy: 0.9958 - val_loss: 0.4867 - val_accuracy: 0.9280\n",
      "Epoch 188/200\n",
      "85/85 [==============================] - ETA: 0s - loss: 0.0179 - accuracy: 0.9950\n",
      "Epoch 00188: val_accuracy did not improve from 0.93447\n",
      "85/85 [==============================] - 23s 273ms/step - loss: 0.0179 - accuracy: 0.9950 - val_loss: 0.5490 - val_accuracy: 0.9286\n",
      "Epoch 189/200\n",
      "85/85 [==============================] - ETA: 0s - loss: 0.0147 - accuracy: 0.9957\n",
      "Epoch 00189: val_accuracy did not improve from 0.93447\n",
      "85/85 [==============================] - 23s 274ms/step - loss: 0.0147 - accuracy: 0.9957 - val_loss: 0.5392 - val_accuracy: 0.9249\n",
      "Epoch 190/200\n",
      "85/85 [==============================] - ETA: 0s - loss: 0.0165 - accuracy: 0.9952\n",
      "Epoch 00190: val_accuracy did not improve from 0.93447\n",
      "85/85 [==============================] - 23s 272ms/step - loss: 0.0165 - accuracy: 0.9952 - val_loss: 0.5621 - val_accuracy: 0.9218\n",
      "Epoch 191/200\n",
      "85/85 [==============================] - ETA: 0s - loss: 0.0388 - accuracy: 0.9899\n",
      "Epoch 00191: val_accuracy did not improve from 0.93447\n",
      "85/85 [==============================] - 23s 274ms/step - loss: 0.0388 - accuracy: 0.9899 - val_loss: 0.5601 - val_accuracy: 0.9240\n",
      "Epoch 192/200\n",
      "85/85 [==============================] - ETA: 0s - loss: 0.0264 - accuracy: 0.9924\n",
      "Epoch 00192: val_accuracy did not improve from 0.93447\n",
      "85/85 [==============================] - 23s 274ms/step - loss: 0.0264 - accuracy: 0.9924 - val_loss: 0.5116 - val_accuracy: 0.9304\n",
      "Epoch 193/200\n",
      "85/85 [==============================] - ETA: 0s - loss: 0.0234 - accuracy: 0.9938\n",
      "Epoch 00193: val_accuracy did not improve from 0.93447\n",
      "85/85 [==============================] - 23s 270ms/step - loss: 0.0234 - accuracy: 0.9938 - val_loss: 0.4806 - val_accuracy: 0.9275\n",
      "Epoch 194/200\n",
      "85/85 [==============================] - ETA: 0s - loss: 0.0355 - accuracy: 0.9904\n",
      "Epoch 00194: val_accuracy did not improve from 0.93447\n",
      "85/85 [==============================] - 23s 273ms/step - loss: 0.0355 - accuracy: 0.9904 - val_loss: 0.5181 - val_accuracy: 0.9269\n",
      "Epoch 195/200\n",
      "85/85 [==============================] - ETA: 0s - loss: 0.0289 - accuracy: 0.9919\n",
      "Epoch 00195: val_accuracy did not improve from 0.93447\n",
      "85/85 [==============================] - 23s 273ms/step - loss: 0.0289 - accuracy: 0.9919 - val_loss: 0.4928 - val_accuracy: 0.9319\n",
      "Epoch 196/200\n",
      "85/85 [==============================] - ETA: 0s - loss: 0.0176 - accuracy: 0.9949\n",
      "Epoch 00196: val_accuracy did not improve from 0.93447\n",
      "85/85 [==============================] - 23s 272ms/step - loss: 0.0176 - accuracy: 0.9949 - val_loss: 0.5214 - val_accuracy: 0.9253\n",
      "Epoch 197/200\n",
      "85/85 [==============================] - ETA: 0s - loss: 0.0199 - accuracy: 0.9941\n",
      "Epoch 00197: val_accuracy did not improve from 0.93447\n",
      "85/85 [==============================] - 23s 273ms/step - loss: 0.0199 - accuracy: 0.9941 - val_loss: 0.5402 - val_accuracy: 0.9269\n",
      "Epoch 198/200\n",
      "85/85 [==============================] - ETA: 0s - loss: 0.0134 - accuracy: 0.9962\n",
      "Epoch 00198: val_accuracy did not improve from 0.93447\n",
      "85/85 [==============================] - 23s 274ms/step - loss: 0.0134 - accuracy: 0.9962 - val_loss: 0.4975 - val_accuracy: 0.9310\n",
      "Epoch 199/200\n",
      "85/85 [==============================] - ETA: 0s - loss: 0.0234 - accuracy: 0.9935\n",
      "Epoch 00199: val_accuracy did not improve from 0.93447\n",
      "85/85 [==============================] - 23s 270ms/step - loss: 0.0234 - accuracy: 0.9935 - val_loss: 0.4982 - val_accuracy: 0.9290\n",
      "Epoch 200/200\n",
      "85/85 [==============================] - ETA: 0s - loss: 0.0752 - accuracy: 0.9802\n",
      "Epoch 00200: val_accuracy did not improve from 0.93447\n",
      "85/85 [==============================] - 23s 272ms/step - loss: 0.0752 - accuracy: 0.9802 - val_loss: 0.5977 - val_accuracy: 0.9130\n"
     ]
    }
   ],
   "source": [
    "history=model.fit(X_train,y_train,validation_data=(X_test,y_test),callbacks=[checkpoint],epochs=EPOCHS,batch_size=BATCH_SIZE,steps_per_epoch=STEPS_PER_EPOCH)"
   ]
  },
  {
   "cell_type": "code",
   "execution_count": 35,
   "metadata": {
    "execution": {
     "iopub.execute_input": "2020-11-07T18:06:47.067527Z",
     "iopub.status.busy": "2020-11-07T18:06:47.065652Z",
     "iopub.status.idle": "2020-11-07T18:06:47.068298Z",
     "shell.execute_reply": "2020-11-07T18:06:47.068853Z"
    },
    "papermill": {
     "duration": 7.008333,
     "end_time": "2020-11-07T18:06:47.069000",
     "exception": false,
     "start_time": "2020-11-07T18:06:40.060667",
     "status": "completed"
    },
    "tags": []
   },
   "outputs": [],
   "source": [
    "def plot(history):\n",
    "    acc=history.history['accuracy']\n",
    "    val_acc=history.history['val_accuracy']\n",
    "    loss=history.history['loss']\n",
    "    val_loss=history.history['val_loss']\n",
    "    epochs=range(len(acc))\n",
    "    plt.plot(epochs,acc)\n",
    "    plt.plot(epochs,val_acc)\n",
    "    plt.title('Training accuracy and Validation accuracy')\n",
    "    plt.figure()\n",
    "    plt.plot(epochs,loss)\n",
    "    plt.plot(epochs,val_loss)\n",
    "    plt.title('Training and validation loss')"
   ]
  },
  {
   "cell_type": "code",
   "execution_count": 36,
   "metadata": {
    "execution": {
     "iopub.execute_input": "2020-11-07T18:07:03.280186Z",
     "iopub.status.busy": "2020-11-07T18:07:03.279136Z",
     "iopub.status.idle": "2020-11-07T18:07:03.669683Z",
     "shell.execute_reply": "2020-11-07T18:07:03.670351Z"
    },
    "papermill": {
     "duration": 7.755667,
     "end_time": "2020-11-07T18:07:03.670523",
     "exception": false,
     "start_time": "2020-11-07T18:06:55.914856",
     "status": "completed"
    },
    "tags": []
   },
   "outputs": [
    {
     "data": {
      "image/png": "[encoded data removed]",
      "text/plain": [
       "<Figure size 432x288 with 1 Axes>"
      ]
     },
     "metadata": {
      "needs_background": "light"
     },
     "output_type": "display_data"
    },
    {
     "data": {
      "image/png": "[encoded data removed]",
      "text/plain": [
       "<Figure size 432x288 with 1 Axes>"
      ]
     },
     "metadata": {
      "needs_background": "light"
     },
     "output_type": "display_data"
    }
   ],
   "source": [
    "plot(history)"
   ]
  },
  {
   "cell_type": "code",
   "execution_count": 37,
   "metadata": {
    "execution": {
     "iopub.execute_input": "2020-11-07T18:07:18.057652Z",
     "iopub.status.busy": "2020-11-07T18:07:18.056064Z",
     "iopub.status.idle": "2020-11-07T18:07:18.058438Z",
     "shell.execute_reply": "2020-11-07T18:07:18.058999Z"
    },
    "papermill": {
     "duration": 7.081863,
     "end_time": "2020-11-07T18:07:18.059148",
     "exception": false,
     "start_time": "2020-11-07T18:07:10.977285",
     "status": "completed"
    },
    "tags": []
   },
   "outputs": [],
   "source": [
    "def predict(audio_s):\n",
    "    probabilty=model.predict(audio_s.reshape(1,8000,1))\n",
    "    index=np.argmax(probabilty[0])\n",
    "    return outcome_class[index]"
   ]
  },
  {
   "cell_type": "code",
   "execution_count": 38,
   "metadata": {
    "execution": {
     "iopub.execute_input": "2020-11-07T18:07:33.125187Z",
     "iopub.status.busy": "2020-11-07T18:07:33.124041Z",
     "iopub.status.idle": "2020-11-07T18:07:35.391416Z",
     "shell.execute_reply": "2020-11-07T18:07:35.390791Z"
    },
    "papermill": {
     "duration": 9.536638,
     "end_time": "2020-11-07T18:07:35.391547",
     "exception": false,
     "start_time": "2020-11-07T18:07:25.854909",
     "status": "completed"
    },
    "tags": []
   },
   "outputs": [
    {
     "name": "stdout",
     "output_type": "stream",
     "text": [
      "Audio: eight\n",
      "Prediction from the model:  eight\n"
     ]
    }
   ],
   "source": [
    "sample_rate=16000\n",
    "rnd_i=np.random.randint(X_test.shape[0])\n",
    "samples=X_test[rnd_i].ravel()\n",
    "print(\"Audio:\",outcome_class[np.argmax(y_test[rnd_i])])\n",
    "print(\"Prediction from the model: \",predict(samples))"
   ]
  },
  {
   "cell_type": "code",
   "execution_count": 39,
   "metadata": {
    "execution": {
     "iopub.execute_input": "2020-11-07T18:07:50.443862Z",
     "iopub.status.busy": "2020-11-07T18:07:50.442592Z",
     "iopub.status.idle": "2020-11-07T18:07:50.447970Z",
     "shell.execute_reply": "2020-11-07T18:07:50.447402Z"
    },
    "papermill": {
     "duration": 7.947143,
     "end_time": "2020-11-07T18:07:50.448093",
     "exception": false,
     "start_time": "2020-11-07T18:07:42.500950",
     "status": "completed"
    },
    "tags": []
   },
   "outputs": [
    {
     "data": {
      "text/html": [
       "\n",
       "                <audio  controls=\"controls\" >\n",
       "                    <source src=\"data:audio/wav;base64,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\" type=\"audio/wav\" />\n",
       "                    Your browser does not support the audio element.\n",
       "                </audio>\n",
       "              "
      ],
      "text/plain": [
       "<IPython.lib.display.Audio object>"
      ]
     },
     "execution_count": 39,
     "metadata": {},
     "output_type": "execute_result"
    }
   ],
   "source": [
    "ipd.Audio(samples, rate=8000)"
   ]
  }
 ],
 "metadata": {
  "kernelspec": {
   "display_name": "Python 3",
   "language": "python",
   "name": "python3"
  },
  "language_info": {
   "codemirror_mode": {
    "name": "ipython",
    "version": 3
   },
   "file_extension": ".py",
   "mimetype": "text/x-python",
   "name": "python",
   "nbconvert_exporter": "python",
   "pygments_lexer": "ipython3",
   "version": "3.7.1"
  },
  "papermill": {
   "duration": 6471.043772,
   "end_time": "2020-11-07T18:08:00.398326",
   "environment_variables": {},
   "exception": null,
   "input_path": "__notebook__.ipynb",
   "output_path": "__notebook__.ipynb",
   "parameters": {},
   "start_time": "2020-11-07T16:20:09.354554",
   "version": "2.1.0"
  }
 },
 "nbformat": 4,
 "nbformat_minor": 4
}
